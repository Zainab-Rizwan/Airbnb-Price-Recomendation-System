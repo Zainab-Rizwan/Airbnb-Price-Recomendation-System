{
  "cells": [
    {
      "cell_type": "code",
      "execution_count": null,
      "metadata": {
        "id": "_r_65cX4iHVv"
      },
      "outputs": [],
      "source": [
        "# Import all necessary libraries\n",
        "\n",
        "import matplotlib\n",
        "import matplotlib.pyplot as plt\n",
        "import numpy as np\n",
        "import pandas as pd\n",
        "import seaborn as sns\n",
        "import missingno as msno\n",
        "import datetime as dt\n",
        "import re\n",
        "from sklearn.preprocessing import StandardScaler\n",
        "from sklearn.preprocessing import LabelEncoder\n",
        "from sklearn.model_selection import train_test_split\n",
        "from sklearn.linear_model import LinearRegression\n",
        "from sklearn.metrics import mean_squared_error\n",
        "from sklearn.model_selection import cross_val_score\n",
        "from sklearn.ensemble import RandomForestRegressor"
      ]
    },
    {
      "cell_type": "code",
      "execution_count": null,
      "metadata": {
        "colab": {
          "base_uri": "https://localhost:8080/"
        },
        "id": "LjwxvDk5dO5Y",
        "outputId": "bbd45bcd-449c-4850-e53c-7642e772326c"
      },
      "outputs": [
        {
          "output_type": "stream",
          "name": "stdout",
          "text": [
            "Drive already mounted at /content/drive; to attempt to forcibly remount, call drive.mount(\"/content/drive\", force_remount=True).\n"
          ]
        }
      ],
      "source": [
        "from google.colab import drive\n",
        "drive.mount('/content/drive')"
      ]
    },
    {
      "cell_type": "code",
      "execution_count": null,
      "metadata": {
        "id": "NhG9DaykiWWX"
      },
      "outputs": [],
      "source": [
        "# Read in the dataset\n",
        "calendar_df = pd.read_csv('/content/drive/My Drive/listings_detailed.csv')"
      ]
    },
    {
      "cell_type": "markdown",
      "metadata": {
        "id": "c9G0UYKnjBNz"
      },
      "source": [
        "# Data Understanding"
      ]
    },
    {
      "cell_type": "code",
      "execution_count": null,
      "metadata": {
        "colab": {
          "base_uri": "https://localhost:8080/"
        },
        "id": "bg5uYfe0ijxH",
        "outputId": "ae2d1290-5456-4eca-9822-3d028919862a"
      },
      "outputs": [
        {
          "output_type": "execute_result",
          "data": {
            "text/plain": [
              "(6998, 75)"
            ]
          },
          "metadata": {},
          "execution_count": 6
        }
      ],
      "source": [
        "# Data Understanding\n",
        "calendar_df.shape"
      ]
    },
    {
      "cell_type": "code",
      "execution_count": null,
      "metadata": {
        "colab": {
          "base_uri": "https://localhost:8080/",
          "height": 646
        },
        "id": "A-J5Canai1jU",
        "outputId": "ce3cbeb0-d5d2-4318-d9eb-28949fa8430c"
      },
      "outputs": [
        {
          "output_type": "execute_result",
          "data": {
            "text/plain": [
              "       id                          listing_url       scrape_id last_scraped  \\\n",
              "0    2818    https://www.airbnb.com/rooms/2818  20230309202119   2023-03-09   \n",
              "1  311124  https://www.airbnb.com/rooms/311124  20230309202119   2023-03-10   \n",
              "2  319985  https://www.airbnb.com/rooms/319985  20230309202119   2023-03-10   \n",
              "3  327285  https://www.airbnb.com/rooms/327285  20230309202119   2023-03-10   \n",
              "4  331946  https://www.airbnb.com/rooms/331946  20230309202119   2023-03-10   \n",
              "\n",
              "            source                                               name  \\\n",
              "0      city scrape          Quiet Garden View Room & Super Fast Wi-Fi   \n",
              "1      city scrape  *historic centre* *bright* *canal view* *jordaan*   \n",
              "2      city scrape              Elegant Appartement Central Location.   \n",
              "3      city scrape                beautiful designed ap.+bikes+garden   \n",
              "4  previous scrape                Lovely FAMILY house near Vondelpark   \n",
              "\n",
              "                                         description  \\\n",
              "0  Quiet Garden View Room & Super Fast Wi-Fi<br /...   \n",
              "1  > Please be so kind to book  ONLY AFTER  conta...   \n",
              "2  From December 26 thru January 2, minimum stay ...   \n",
              "3  Cosy and comfortable apartment on the ground f...   \n",
              "4  * Our house is only suitable for a couple or f...   \n",
              "\n",
              "                               neighborhood_overview  \\\n",
              "0  Indische Buurt (\"Indies Neighborhood\") is a ne...   \n",
              "1  Perfect location in the lively centre. All his...   \n",
              "2  Bij aankomst vertel ik mijn gasten graag over ...   \n",
              "3  'De Pijp' as we Amsterdammers know it today is...   \n",
              "4                                                NaN   \n",
              "\n",
              "                                         picture_url  host_id  ...  \\\n",
              "0  https://a0.muscache.com/pictures/10272854/8dcc...     3159  ...   \n",
              "1  https://a0.muscache.com/pictures/5208672/5bb60...  1600010  ...   \n",
              "2  https://a0.muscache.com/pictures/3b76222e-ed0a...  1640702  ...   \n",
              "3  https://a0.muscache.com/pictures/4283713/63eaa...  1672823  ...   \n",
              "4  https://a0.muscache.com/pictures/b73c16af-4e31...  1687595  ...   \n",
              "\n",
              "  review_scores_communication review_scores_location review_scores_value  \\\n",
              "0                        4.98                   4.69                4.81   \n",
              "1                        4.92                   4.93                4.60   \n",
              "2                        4.78                   4.85                4.62   \n",
              "3                        4.99                   4.91                4.84   \n",
              "4                        4.88                   4.79                4.75   \n",
              "\n",
              "                    license instant_bookable calculated_host_listings_count  \\\n",
              "0  0363 5F3A 5684 6750 D14D                f                              1   \n",
              "1  0363 59D8 7D30 6CFA DC81                f                              1   \n",
              "2  0363 7D88 E1E8 F521 9A10                f                              2   \n",
              "3  0363 8A88 B129 62B5 BD4E                t                              2   \n",
              "4  0363 A942 21DC C431 1AD1                f                              1   \n",
              "\n",
              "  calculated_host_listings_count_entire_homes  \\\n",
              "0                                           0   \n",
              "1                                           1   \n",
              "2                                           1   \n",
              "3                                           0   \n",
              "4                                           1   \n",
              "\n",
              "  calculated_host_listings_count_private_rooms  \\\n",
              "0                                            1   \n",
              "1                                            0   \n",
              "2                                            1   \n",
              "3                                            2   \n",
              "4                                            0   \n",
              "\n",
              "  calculated_host_listings_count_shared_rooms reviews_per_month  \n",
              "0                                           0              1.90  \n",
              "1                                           0              0.66  \n",
              "2                                           0              3.73  \n",
              "3                                           0              4.19  \n",
              "4                                           0              0.24  \n",
              "\n",
              "[5 rows x 75 columns]"
            ],
            "text/html": [
              "\n",
              "  <div id=\"df-8477227b-8e24-4ef6-a659-2a012ded76bc\">\n",
              "    <div class=\"colab-df-container\">\n",
              "      <div>\n",
              "<style scoped>\n",
              "    .dataframe tbody tr th:only-of-type {\n",
              "        vertical-align: middle;\n",
              "    }\n",
              "\n",
              "    .dataframe tbody tr th {\n",
              "        vertical-align: top;\n",
              "    }\n",
              "\n",
              "    .dataframe thead th {\n",
              "        text-align: right;\n",
              "    }\n",
              "</style>\n",
              "<table border=\"1\" class=\"dataframe\">\n",
              "  <thead>\n",
              "    <tr style=\"text-align: right;\">\n",
              "      <th></th>\n",
              "      <th>id</th>\n",
              "      <th>listing_url</th>\n",
              "      <th>scrape_id</th>\n",
              "      <th>last_scraped</th>\n",
              "      <th>source</th>\n",
              "      <th>name</th>\n",
              "      <th>description</th>\n",
              "      <th>neighborhood_overview</th>\n",
              "      <th>picture_url</th>\n",
              "      <th>host_id</th>\n",
              "      <th>...</th>\n",
              "      <th>review_scores_communication</th>\n",
              "      <th>review_scores_location</th>\n",
              "      <th>review_scores_value</th>\n",
              "      <th>license</th>\n",
              "      <th>instant_bookable</th>\n",
              "      <th>calculated_host_listings_count</th>\n",
              "      <th>calculated_host_listings_count_entire_homes</th>\n",
              "      <th>calculated_host_listings_count_private_rooms</th>\n",
              "      <th>calculated_host_listings_count_shared_rooms</th>\n",
              "      <th>reviews_per_month</th>\n",
              "    </tr>\n",
              "  </thead>\n",
              "  <tbody>\n",
              "    <tr>\n",
              "      <th>0</th>\n",
              "      <td>2818</td>\n",
              "      <td>https://www.airbnb.com/rooms/2818</td>\n",
              "      <td>20230309202119</td>\n",
              "      <td>2023-03-09</td>\n",
              "      <td>city scrape</td>\n",
              "      <td>Quiet Garden View Room &amp; Super Fast Wi-Fi</td>\n",
              "      <td>Quiet Garden View Room &amp; Super Fast Wi-Fi&lt;br /...</td>\n",
              "      <td>Indische Buurt (\"Indies Neighborhood\") is a ne...</td>\n",
              "      <td>https://a0.muscache.com/pictures/10272854/8dcc...</td>\n",
              "      <td>3159</td>\n",
              "      <td>...</td>\n",
              "      <td>4.98</td>\n",
              "      <td>4.69</td>\n",
              "      <td>4.81</td>\n",
              "      <td>0363 5F3A 5684 6750 D14D</td>\n",
              "      <td>f</td>\n",
              "      <td>1</td>\n",
              "      <td>0</td>\n",
              "      <td>1</td>\n",
              "      <td>0</td>\n",
              "      <td>1.90</td>\n",
              "    </tr>\n",
              "    <tr>\n",
              "      <th>1</th>\n",
              "      <td>311124</td>\n",
              "      <td>https://www.airbnb.com/rooms/311124</td>\n",
              "      <td>20230309202119</td>\n",
              "      <td>2023-03-10</td>\n",
              "      <td>city scrape</td>\n",
              "      <td>*historic centre* *bright* *canal view* *jordaan*</td>\n",
              "      <td>&gt; Please be so kind to book  ONLY AFTER  conta...</td>\n",
              "      <td>Perfect location in the lively centre. All his...</td>\n",
              "      <td>https://a0.muscache.com/pictures/5208672/5bb60...</td>\n",
              "      <td>1600010</td>\n",
              "      <td>...</td>\n",
              "      <td>4.92</td>\n",
              "      <td>4.93</td>\n",
              "      <td>4.60</td>\n",
              "      <td>0363 59D8 7D30 6CFA DC81</td>\n",
              "      <td>f</td>\n",
              "      <td>1</td>\n",
              "      <td>1</td>\n",
              "      <td>0</td>\n",
              "      <td>0</td>\n",
              "      <td>0.66</td>\n",
              "    </tr>\n",
              "    <tr>\n",
              "      <th>2</th>\n",
              "      <td>319985</td>\n",
              "      <td>https://www.airbnb.com/rooms/319985</td>\n",
              "      <td>20230309202119</td>\n",
              "      <td>2023-03-10</td>\n",
              "      <td>city scrape</td>\n",
              "      <td>Elegant Appartement Central Location.</td>\n",
              "      <td>From December 26 thru January 2, minimum stay ...</td>\n",
              "      <td>Bij aankomst vertel ik mijn gasten graag over ...</td>\n",
              "      <td>https://a0.muscache.com/pictures/3b76222e-ed0a...</td>\n",
              "      <td>1640702</td>\n",
              "      <td>...</td>\n",
              "      <td>4.78</td>\n",
              "      <td>4.85</td>\n",
              "      <td>4.62</td>\n",
              "      <td>0363 7D88 E1E8 F521 9A10</td>\n",
              "      <td>f</td>\n",
              "      <td>2</td>\n",
              "      <td>1</td>\n",
              "      <td>1</td>\n",
              "      <td>0</td>\n",
              "      <td>3.73</td>\n",
              "    </tr>\n",
              "    <tr>\n",
              "      <th>3</th>\n",
              "      <td>327285</td>\n",
              "      <td>https://www.airbnb.com/rooms/327285</td>\n",
              "      <td>20230309202119</td>\n",
              "      <td>2023-03-10</td>\n",
              "      <td>city scrape</td>\n",
              "      <td>beautiful designed ap.+bikes+garden</td>\n",
              "      <td>Cosy and comfortable apartment on the ground f...</td>\n",
              "      <td>'De Pijp' as we Amsterdammers know it today is...</td>\n",
              "      <td>https://a0.muscache.com/pictures/4283713/63eaa...</td>\n",
              "      <td>1672823</td>\n",
              "      <td>...</td>\n",
              "      <td>4.99</td>\n",
              "      <td>4.91</td>\n",
              "      <td>4.84</td>\n",
              "      <td>0363 8A88 B129 62B5 BD4E</td>\n",
              "      <td>t</td>\n",
              "      <td>2</td>\n",
              "      <td>0</td>\n",
              "      <td>2</td>\n",
              "      <td>0</td>\n",
              "      <td>4.19</td>\n",
              "    </tr>\n",
              "    <tr>\n",
              "      <th>4</th>\n",
              "      <td>331946</td>\n",
              "      <td>https://www.airbnb.com/rooms/331946</td>\n",
              "      <td>20230309202119</td>\n",
              "      <td>2023-03-10</td>\n",
              "      <td>previous scrape</td>\n",
              "      <td>Lovely FAMILY house near Vondelpark</td>\n",
              "      <td>* Our house is only suitable for a couple or f...</td>\n",
              "      <td>NaN</td>\n",
              "      <td>https://a0.muscache.com/pictures/b73c16af-4e31...</td>\n",
              "      <td>1687595</td>\n",
              "      <td>...</td>\n",
              "      <td>4.88</td>\n",
              "      <td>4.79</td>\n",
              "      <td>4.75</td>\n",
              "      <td>0363 A942 21DC C431 1AD1</td>\n",
              "      <td>f</td>\n",
              "      <td>1</td>\n",
              "      <td>1</td>\n",
              "      <td>0</td>\n",
              "      <td>0</td>\n",
              "      <td>0.24</td>\n",
              "    </tr>\n",
              "  </tbody>\n",
              "</table>\n",
              "<p>5 rows × 75 columns</p>\n",
              "</div>\n",
              "      <button class=\"colab-df-convert\" onclick=\"convertToInteractive('df-8477227b-8e24-4ef6-a659-2a012ded76bc')\"\n",
              "              title=\"Convert this dataframe to an interactive table.\"\n",
              "              style=\"display:none;\">\n",
              "        \n",
              "  <svg xmlns=\"http://www.w3.org/2000/svg\" height=\"24px\"viewBox=\"0 0 24 24\"\n",
              "       width=\"24px\">\n",
              "    <path d=\"M0 0h24v24H0V0z\" fill=\"none\"/>\n",
              "    <path d=\"M18.56 5.44l.94 2.06.94-2.06 2.06-.94-2.06-.94-.94-2.06-.94 2.06-2.06.94zm-11 1L8.5 8.5l.94-2.06 2.06-.94-2.06-.94L8.5 2.5l-.94 2.06-2.06.94zm10 10l.94 2.06.94-2.06 2.06-.94-2.06-.94-.94-2.06-.94 2.06-2.06.94z\"/><path d=\"M17.41 7.96l-1.37-1.37c-.4-.4-.92-.59-1.43-.59-.52 0-1.04.2-1.43.59L10.3 9.45l-7.72 7.72c-.78.78-.78 2.05 0 2.83L4 21.41c.39.39.9.59 1.41.59.51 0 1.02-.2 1.41-.59l7.78-7.78 2.81-2.81c.8-.78.8-2.07 0-2.86zM5.41 20L4 18.59l7.72-7.72 1.47 1.35L5.41 20z\"/>\n",
              "  </svg>\n",
              "      </button>\n",
              "      \n",
              "  <style>\n",
              "    .colab-df-container {\n",
              "      display:flex;\n",
              "      flex-wrap:wrap;\n",
              "      gap: 12px;\n",
              "    }\n",
              "\n",
              "    .colab-df-convert {\n",
              "      background-color: #E8F0FE;\n",
              "      border: none;\n",
              "      border-radius: 50%;\n",
              "      cursor: pointer;\n",
              "      display: none;\n",
              "      fill: #1967D2;\n",
              "      height: 32px;\n",
              "      padding: 0 0 0 0;\n",
              "      width: 32px;\n",
              "    }\n",
              "\n",
              "    .colab-df-convert:hover {\n",
              "      background-color: #E2EBFA;\n",
              "      box-shadow: 0px 1px 2px rgba(60, 64, 67, 0.3), 0px 1px 3px 1px rgba(60, 64, 67, 0.15);\n",
              "      fill: #174EA6;\n",
              "    }\n",
              "\n",
              "    [theme=dark] .colab-df-convert {\n",
              "      background-color: #3B4455;\n",
              "      fill: #D2E3FC;\n",
              "    }\n",
              "\n",
              "    [theme=dark] .colab-df-convert:hover {\n",
              "      background-color: #434B5C;\n",
              "      box-shadow: 0px 1px 3px 1px rgba(0, 0, 0, 0.15);\n",
              "      filter: drop-shadow(0px 1px 2px rgba(0, 0, 0, 0.3));\n",
              "      fill: #FFFFFF;\n",
              "    }\n",
              "  </style>\n",
              "\n",
              "      <script>\n",
              "        const buttonEl =\n",
              "          document.querySelector('#df-8477227b-8e24-4ef6-a659-2a012ded76bc button.colab-df-convert');\n",
              "        buttonEl.style.display =\n",
              "          google.colab.kernel.accessAllowed ? 'block' : 'none';\n",
              "\n",
              "        async function convertToInteractive(key) {\n",
              "          const element = document.querySelector('#df-8477227b-8e24-4ef6-a659-2a012ded76bc');\n",
              "          const dataTable =\n",
              "            await google.colab.kernel.invokeFunction('convertToInteractive',\n",
              "                                                     [key], {});\n",
              "          if (!dataTable) return;\n",
              "\n",
              "          const docLinkHtml = 'Like what you see? Visit the ' +\n",
              "            '<a target=\"_blank\" href=https://colab.research.google.com/notebooks/data_table.ipynb>data table notebook</a>'\n",
              "            + ' to learn more about interactive tables.';\n",
              "          element.innerHTML = '';\n",
              "          dataTable['output_type'] = 'display_data';\n",
              "          await google.colab.output.renderOutput(dataTable, element);\n",
              "          const docLink = document.createElement('div');\n",
              "          docLink.innerHTML = docLinkHtml;\n",
              "          element.appendChild(docLink);\n",
              "        }\n",
              "      </script>\n",
              "    </div>\n",
              "  </div>\n",
              "  "
            ]
          },
          "metadata": {},
          "execution_count": 7
        }
      ],
      "source": [
        "calendar_df.head()\n"
      ]
    },
    {
      "cell_type": "markdown",
      "metadata": {
        "id": "U7k8gyTujFNP"
      },
      "source": [
        "# Data Preparation and Cleaning"
      ]
    },
    {
      "cell_type": "markdown",
      "metadata": {
        "id": "xi7nt2nsMt4N"
      },
      "source": [
        "# Basic Data Cleaning"
      ]
    },
    {
      "cell_type": "code",
      "execution_count": null,
      "metadata": {
        "colab": {
          "base_uri": "https://localhost:8080/"
        },
        "id": "Le4KJZX0i-G2",
        "outputId": "30287058-a988-40d3-e963-b3e4b432a259"
      },
      "outputs": [
        {
          "output_type": "stream",
          "name": "stdout",
          "text": [
            "<class 'pandas.core.frame.DataFrame'>\n",
            "RangeIndex: 6998 entries, 0 to 6997\n",
            "Data columns (total 75 columns):\n",
            " #   Column                                        Non-Null Count  Dtype  \n",
            "---  ------                                        --------------  -----  \n",
            " 0   id                                            6998 non-null   int64  \n",
            " 1   listing_url                                   6998 non-null   object \n",
            " 2   scrape_id                                     6998 non-null   int64  \n",
            " 3   last_scraped                                  6998 non-null   object \n",
            " 4   source                                        6998 non-null   object \n",
            " 5   name                                          6998 non-null   object \n",
            " 6   description                                   6992 non-null   object \n",
            " 7   neighborhood_overview                         4506 non-null   object \n",
            " 8   picture_url                                   6998 non-null   object \n",
            " 9   host_id                                       6998 non-null   int64  \n",
            " 10  host_url                                      6998 non-null   object \n",
            " 11  host_name                                     6998 non-null   object \n",
            " 12  host_since                                    6998 non-null   object \n",
            " 13  host_location                                 6195 non-null   object \n",
            " 14  host_about                                    4083 non-null   object \n",
            " 15  host_response_time                            4959 non-null   object \n",
            " 16  host_response_rate                            4959 non-null   object \n",
            " 17  host_acceptance_rate                          6003 non-null   object \n",
            " 18  host_is_superhost                             6994 non-null   object \n",
            " 19  host_thumbnail_url                            6998 non-null   object \n",
            " 20  host_picture_url                              6998 non-null   object \n",
            " 21  host_neighbourhood                            2976 non-null   object \n",
            " 22  host_listings_count                           6998 non-null   int64  \n",
            " 23  host_total_listings_count                     6998 non-null   int64  \n",
            " 24  host_verifications                            6998 non-null   object \n",
            " 25  host_has_profile_pic                          6998 non-null   object \n",
            " 26  host_identity_verified                        6998 non-null   object \n",
            " 27  neighbourhood                                 4506 non-null   object \n",
            " 28  neighbourhood_cleansed                        6998 non-null   object \n",
            " 29  neighbourhood_group_cleansed                  0 non-null      float64\n",
            " 30  latitude                                      6998 non-null   float64\n",
            " 31  longitude                                     6998 non-null   float64\n",
            " 32  property_type                                 6998 non-null   object \n",
            " 33  room_type                                     6998 non-null   object \n",
            " 34  accommodates                                  6998 non-null   int64  \n",
            " 35  bathrooms                                     0 non-null      float64\n",
            " 36  bathrooms_text                                6985 non-null   object \n",
            " 37  bedrooms                                      6714 non-null   float64\n",
            " 38  beds                                          6913 non-null   float64\n",
            " 39  amenities                                     6998 non-null   object \n",
            " 40  price                                         6998 non-null   object \n",
            " 41  minimum_nights                                6998 non-null   int64  \n",
            " 42  maximum_nights                                6998 non-null   int64  \n",
            " 43  minimum_minimum_nights                        6998 non-null   int64  \n",
            " 44  maximum_minimum_nights                        6998 non-null   int64  \n",
            " 45  minimum_maximum_nights                        6998 non-null   int64  \n",
            " 46  maximum_maximum_nights                        6998 non-null   int64  \n",
            " 47  minimum_nights_avg_ntm                        6998 non-null   float64\n",
            " 48  maximum_nights_avg_ntm                        6998 non-null   float64\n",
            " 49  calendar_updated                              0 non-null      float64\n",
            " 50  has_availability                              6998 non-null   object \n",
            " 51  availability_30                               6998 non-null   int64  \n",
            " 52  availability_60                               6998 non-null   int64  \n",
            " 53  availability_90                               6998 non-null   int64  \n",
            " 54  availability_365                              6998 non-null   int64  \n",
            " 55  calendar_last_scraped                         6998 non-null   object \n",
            " 56  number_of_reviews                             6998 non-null   int64  \n",
            " 57  number_of_reviews_ltm                         6998 non-null   int64  \n",
            " 58  number_of_reviews_l30d                        6998 non-null   int64  \n",
            " 59  first_review                                  6316 non-null   object \n",
            " 60  last_review                                   6316 non-null   object \n",
            " 61  review_scores_rating                          6316 non-null   float64\n",
            " 62  review_scores_accuracy                        6312 non-null   float64\n",
            " 63  review_scores_cleanliness                     6312 non-null   float64\n",
            " 64  review_scores_checkin                         6312 non-null   float64\n",
            " 65  review_scores_communication                   6312 non-null   float64\n",
            " 66  review_scores_location                        6312 non-null   float64\n",
            " 67  review_scores_value                           6312 non-null   float64\n",
            " 68  license                                       6974 non-null   object \n",
            " 69  instant_bookable                              6998 non-null   object \n",
            " 70  calculated_host_listings_count                6998 non-null   int64  \n",
            " 71  calculated_host_listings_count_entire_homes   6998 non-null   int64  \n",
            " 72  calculated_host_listings_count_private_rooms  6998 non-null   int64  \n",
            " 73  calculated_host_listings_count_shared_rooms   6998 non-null   int64  \n",
            " 74  reviews_per_month                             6316 non-null   float64\n",
            "dtypes: float64(17), int64(23), object(35)\n",
            "memory usage: 4.0+ MB\n"
          ]
        }
      ],
      "source": [
        "calendar_df.info()"
      ]
    },
    {
      "cell_type": "code",
      "execution_count": null,
      "metadata": {
        "colab": {
          "base_uri": "https://localhost:8080/",
          "height": 393
        },
        "id": "I0Zob8CXPLIm",
        "outputId": "acf58b7f-0320-4b2d-ac87-4ccf5f23ed29"
      },
      "outputs": [
        {
          "output_type": "execute_result",
          "data": {
            "text/plain": [
              "                 id     scrape_id       host_id  host_listings_count  \\\n",
              "count  6.998000e+03  6.998000e+03  6.998000e+03          6998.000000   \n",
              "mean   1.868001e+17  2.023031e+13  1.001616e+08             2.480280   \n",
              "std    3.138377e+17  0.000000e+00  1.356648e+08            12.798773   \n",
              "min    2.818000e+03  2.023031e+13  3.159000e+03             1.000000   \n",
              "25%    1.578534e+07  2.023031e+13  9.506638e+06             1.000000   \n",
              "50%    3.534389e+07  2.023031e+13  3.403882e+07             1.000000   \n",
              "75%    5.821187e+17  2.023031e+13  1.354875e+08             2.000000   \n",
              "max    8.427546e+17  2.023031e+13  5.044487e+08           522.000000   \n",
              "\n",
              "       host_total_listings_count  neighbourhood_group_cleansed     latitude  \\\n",
              "count                6998.000000                           0.0  6998.000000   \n",
              "mean                    4.438983                           NaN    52.366767   \n",
              "std                    26.261102                           NaN     0.017055   \n",
              "min                     1.000000                           NaN    52.290340   \n",
              "25%                     1.000000                           NaN    52.355979   \n",
              "50%                     1.000000                           NaN    52.366065   \n",
              "75%                     3.000000                           NaN    52.376540   \n",
              "max                   699.000000                           NaN    52.425120   \n",
              "\n",
              "         longitude  accommodates  bathrooms  ...  review_scores_cleanliness  \\\n",
              "count  6998.000000   6998.000000        0.0  ...                6312.000000   \n",
              "mean      4.890218      2.908260        NaN  ...                   4.759781   \n",
              "std       0.035085      1.387231        NaN  ...                   0.323061   \n",
              "min       4.755710      0.000000        NaN  ...                   1.000000   \n",
              "25%       4.866687      2.000000        NaN  ...                   4.670000   \n",
              "50%       4.888160      2.000000        NaN  ...                   4.860000   \n",
              "75%       4.908185      4.000000        NaN  ...                   5.000000   \n",
              "max       5.026430     16.000000        NaN  ...                   5.000000   \n",
              "\n",
              "       review_scores_checkin  review_scores_communication  \\\n",
              "count            6312.000000                  6312.000000   \n",
              "mean                4.878554                     4.890019   \n",
              "std                 0.233375                     0.234914   \n",
              "min                 1.000000                     1.000000   \n",
              "25%                 4.850000                     4.870000   \n",
              "50%                 4.950000                     4.970000   \n",
              "75%                 5.000000                     5.000000   \n",
              "max                 5.000000                     5.000000   \n",
              "\n",
              "       review_scores_location  review_scores_value  \\\n",
              "count             6312.000000          6312.000000   \n",
              "mean                 4.788021             4.640970   \n",
              "std                  0.252756             0.321297   \n",
              "min                  1.000000             1.000000   \n",
              "25%                  4.670000             4.500000   \n",
              "50%                  4.860000             4.690000   \n",
              "75%                  5.000000             4.830000   \n",
              "max                  5.000000             5.000000   \n",
              "\n",
              "       calculated_host_listings_count  \\\n",
              "count                     6998.000000   \n",
              "mean                         1.806516   \n",
              "std                          2.474394   \n",
              "min                          1.000000   \n",
              "25%                          1.000000   \n",
              "50%                          1.000000   \n",
              "75%                          1.000000   \n",
              "max                         22.000000   \n",
              "\n",
              "       calculated_host_listings_count_entire_homes  \\\n",
              "count                                  6998.000000   \n",
              "mean                                      1.023149   \n",
              "std                                       1.386672   \n",
              "min                                       0.000000   \n",
              "25%                                       1.000000   \n",
              "50%                                       1.000000   \n",
              "75%                                       1.000000   \n",
              "max                                      14.000000   \n",
              "\n",
              "       calculated_host_listings_count_private_rooms  \\\n",
              "count                                   6998.000000   \n",
              "mean                                       0.693055   \n",
              "std                                        1.939071   \n",
              "min                                        0.000000   \n",
              "25%                                        0.000000   \n",
              "50%                                        0.000000   \n",
              "75%                                        1.000000   \n",
              "max                                       20.000000   \n",
              "\n",
              "       calculated_host_listings_count_shared_rooms  reviews_per_month  \n",
              "count                                  6998.000000        6316.000000  \n",
              "mean                                      0.039869           1.134069  \n",
              "std                                       0.448247           2.396285  \n",
              "min                                       0.000000           0.010000  \n",
              "25%                                       0.000000           0.270000  \n",
              "50%                                       0.000000           0.530000  \n",
              "75%                                       0.000000           1.170000  \n",
              "max                                       8.000000         111.590000  \n",
              "\n",
              "[8 rows x 40 columns]"
            ],
            "text/html": [
              "\n",
              "  <div id=\"df-54a929e6-1b52-4aab-9c56-9eea0b1b97cd\">\n",
              "    <div class=\"colab-df-container\">\n",
              "      <div>\n",
              "<style scoped>\n",
              "    .dataframe tbody tr th:only-of-type {\n",
              "        vertical-align: middle;\n",
              "    }\n",
              "\n",
              "    .dataframe tbody tr th {\n",
              "        vertical-align: top;\n",
              "    }\n",
              "\n",
              "    .dataframe thead th {\n",
              "        text-align: right;\n",
              "    }\n",
              "</style>\n",
              "<table border=\"1\" class=\"dataframe\">\n",
              "  <thead>\n",
              "    <tr style=\"text-align: right;\">\n",
              "      <th></th>\n",
              "      <th>id</th>\n",
              "      <th>scrape_id</th>\n",
              "      <th>host_id</th>\n",
              "      <th>host_listings_count</th>\n",
              "      <th>host_total_listings_count</th>\n",
              "      <th>neighbourhood_group_cleansed</th>\n",
              "      <th>latitude</th>\n",
              "      <th>longitude</th>\n",
              "      <th>accommodates</th>\n",
              "      <th>bathrooms</th>\n",
              "      <th>...</th>\n",
              "      <th>review_scores_cleanliness</th>\n",
              "      <th>review_scores_checkin</th>\n",
              "      <th>review_scores_communication</th>\n",
              "      <th>review_scores_location</th>\n",
              "      <th>review_scores_value</th>\n",
              "      <th>calculated_host_listings_count</th>\n",
              "      <th>calculated_host_listings_count_entire_homes</th>\n",
              "      <th>calculated_host_listings_count_private_rooms</th>\n",
              "      <th>calculated_host_listings_count_shared_rooms</th>\n",
              "      <th>reviews_per_month</th>\n",
              "    </tr>\n",
              "  </thead>\n",
              "  <tbody>\n",
              "    <tr>\n",
              "      <th>count</th>\n",
              "      <td>6.998000e+03</td>\n",
              "      <td>6.998000e+03</td>\n",
              "      <td>6.998000e+03</td>\n",
              "      <td>6998.000000</td>\n",
              "      <td>6998.000000</td>\n",
              "      <td>0.0</td>\n",
              "      <td>6998.000000</td>\n",
              "      <td>6998.000000</td>\n",
              "      <td>6998.000000</td>\n",
              "      <td>0.0</td>\n",
              "      <td>...</td>\n",
              "      <td>6312.000000</td>\n",
              "      <td>6312.000000</td>\n",
              "      <td>6312.000000</td>\n",
              "      <td>6312.000000</td>\n",
              "      <td>6312.000000</td>\n",
              "      <td>6998.000000</td>\n",
              "      <td>6998.000000</td>\n",
              "      <td>6998.000000</td>\n",
              "      <td>6998.000000</td>\n",
              "      <td>6316.000000</td>\n",
              "    </tr>\n",
              "    <tr>\n",
              "      <th>mean</th>\n",
              "      <td>1.868001e+17</td>\n",
              "      <td>2.023031e+13</td>\n",
              "      <td>1.001616e+08</td>\n",
              "      <td>2.480280</td>\n",
              "      <td>4.438983</td>\n",
              "      <td>NaN</td>\n",
              "      <td>52.366767</td>\n",
              "      <td>4.890218</td>\n",
              "      <td>2.908260</td>\n",
              "      <td>NaN</td>\n",
              "      <td>...</td>\n",
              "      <td>4.759781</td>\n",
              "      <td>4.878554</td>\n",
              "      <td>4.890019</td>\n",
              "      <td>4.788021</td>\n",
              "      <td>4.640970</td>\n",
              "      <td>1.806516</td>\n",
              "      <td>1.023149</td>\n",
              "      <td>0.693055</td>\n",
              "      <td>0.039869</td>\n",
              "      <td>1.134069</td>\n",
              "    </tr>\n",
              "    <tr>\n",
              "      <th>std</th>\n",
              "      <td>3.138377e+17</td>\n",
              "      <td>0.000000e+00</td>\n",
              "      <td>1.356648e+08</td>\n",
              "      <td>12.798773</td>\n",
              "      <td>26.261102</td>\n",
              "      <td>NaN</td>\n",
              "      <td>0.017055</td>\n",
              "      <td>0.035085</td>\n",
              "      <td>1.387231</td>\n",
              "      <td>NaN</td>\n",
              "      <td>...</td>\n",
              "      <td>0.323061</td>\n",
              "      <td>0.233375</td>\n",
              "      <td>0.234914</td>\n",
              "      <td>0.252756</td>\n",
              "      <td>0.321297</td>\n",
              "      <td>2.474394</td>\n",
              "      <td>1.386672</td>\n",
              "      <td>1.939071</td>\n",
              "      <td>0.448247</td>\n",
              "      <td>2.396285</td>\n",
              "    </tr>\n",
              "    <tr>\n",
              "      <th>min</th>\n",
              "      <td>2.818000e+03</td>\n",
              "      <td>2.023031e+13</td>\n",
              "      <td>3.159000e+03</td>\n",
              "      <td>1.000000</td>\n",
              "      <td>1.000000</td>\n",
              "      <td>NaN</td>\n",
              "      <td>52.290340</td>\n",
              "      <td>4.755710</td>\n",
              "      <td>0.000000</td>\n",
              "      <td>NaN</td>\n",
              "      <td>...</td>\n",
              "      <td>1.000000</td>\n",
              "      <td>1.000000</td>\n",
              "      <td>1.000000</td>\n",
              "      <td>1.000000</td>\n",
              "      <td>1.000000</td>\n",
              "      <td>1.000000</td>\n",
              "      <td>0.000000</td>\n",
              "      <td>0.000000</td>\n",
              "      <td>0.000000</td>\n",
              "      <td>0.010000</td>\n",
              "    </tr>\n",
              "    <tr>\n",
              "      <th>25%</th>\n",
              "      <td>1.578534e+07</td>\n",
              "      <td>2.023031e+13</td>\n",
              "      <td>9.506638e+06</td>\n",
              "      <td>1.000000</td>\n",
              "      <td>1.000000</td>\n",
              "      <td>NaN</td>\n",
              "      <td>52.355979</td>\n",
              "      <td>4.866687</td>\n",
              "      <td>2.000000</td>\n",
              "      <td>NaN</td>\n",
              "      <td>...</td>\n",
              "      <td>4.670000</td>\n",
              "      <td>4.850000</td>\n",
              "      <td>4.870000</td>\n",
              "      <td>4.670000</td>\n",
              "      <td>4.500000</td>\n",
              "      <td>1.000000</td>\n",
              "      <td>1.000000</td>\n",
              "      <td>0.000000</td>\n",
              "      <td>0.000000</td>\n",
              "      <td>0.270000</td>\n",
              "    </tr>\n",
              "    <tr>\n",
              "      <th>50%</th>\n",
              "      <td>3.534389e+07</td>\n",
              "      <td>2.023031e+13</td>\n",
              "      <td>3.403882e+07</td>\n",
              "      <td>1.000000</td>\n",
              "      <td>1.000000</td>\n",
              "      <td>NaN</td>\n",
              "      <td>52.366065</td>\n",
              "      <td>4.888160</td>\n",
              "      <td>2.000000</td>\n",
              "      <td>NaN</td>\n",
              "      <td>...</td>\n",
              "      <td>4.860000</td>\n",
              "      <td>4.950000</td>\n",
              "      <td>4.970000</td>\n",
              "      <td>4.860000</td>\n",
              "      <td>4.690000</td>\n",
              "      <td>1.000000</td>\n",
              "      <td>1.000000</td>\n",
              "      <td>0.000000</td>\n",
              "      <td>0.000000</td>\n",
              "      <td>0.530000</td>\n",
              "    </tr>\n",
              "    <tr>\n",
              "      <th>75%</th>\n",
              "      <td>5.821187e+17</td>\n",
              "      <td>2.023031e+13</td>\n",
              "      <td>1.354875e+08</td>\n",
              "      <td>2.000000</td>\n",
              "      <td>3.000000</td>\n",
              "      <td>NaN</td>\n",
              "      <td>52.376540</td>\n",
              "      <td>4.908185</td>\n",
              "      <td>4.000000</td>\n",
              "      <td>NaN</td>\n",
              "      <td>...</td>\n",
              "      <td>5.000000</td>\n",
              "      <td>5.000000</td>\n",
              "      <td>5.000000</td>\n",
              "      <td>5.000000</td>\n",
              "      <td>4.830000</td>\n",
              "      <td>1.000000</td>\n",
              "      <td>1.000000</td>\n",
              "      <td>1.000000</td>\n",
              "      <td>0.000000</td>\n",
              "      <td>1.170000</td>\n",
              "    </tr>\n",
              "    <tr>\n",
              "      <th>max</th>\n",
              "      <td>8.427546e+17</td>\n",
              "      <td>2.023031e+13</td>\n",
              "      <td>5.044487e+08</td>\n",
              "      <td>522.000000</td>\n",
              "      <td>699.000000</td>\n",
              "      <td>NaN</td>\n",
              "      <td>52.425120</td>\n",
              "      <td>5.026430</td>\n",
              "      <td>16.000000</td>\n",
              "      <td>NaN</td>\n",
              "      <td>...</td>\n",
              "      <td>5.000000</td>\n",
              "      <td>5.000000</td>\n",
              "      <td>5.000000</td>\n",
              "      <td>5.000000</td>\n",
              "      <td>5.000000</td>\n",
              "      <td>22.000000</td>\n",
              "      <td>14.000000</td>\n",
              "      <td>20.000000</td>\n",
              "      <td>8.000000</td>\n",
              "      <td>111.590000</td>\n",
              "    </tr>\n",
              "  </tbody>\n",
              "</table>\n",
              "<p>8 rows × 40 columns</p>\n",
              "</div>\n",
              "      <button class=\"colab-df-convert\" onclick=\"convertToInteractive('df-54a929e6-1b52-4aab-9c56-9eea0b1b97cd')\"\n",
              "              title=\"Convert this dataframe to an interactive table.\"\n",
              "              style=\"display:none;\">\n",
              "        \n",
              "  <svg xmlns=\"http://www.w3.org/2000/svg\" height=\"24px\"viewBox=\"0 0 24 24\"\n",
              "       width=\"24px\">\n",
              "    <path d=\"M0 0h24v24H0V0z\" fill=\"none\"/>\n",
              "    <path d=\"M18.56 5.44l.94 2.06.94-2.06 2.06-.94-2.06-.94-.94-2.06-.94 2.06-2.06.94zm-11 1L8.5 8.5l.94-2.06 2.06-.94-2.06-.94L8.5 2.5l-.94 2.06-2.06.94zm10 10l.94 2.06.94-2.06 2.06-.94-2.06-.94-.94-2.06-.94 2.06-2.06.94z\"/><path d=\"M17.41 7.96l-1.37-1.37c-.4-.4-.92-.59-1.43-.59-.52 0-1.04.2-1.43.59L10.3 9.45l-7.72 7.72c-.78.78-.78 2.05 0 2.83L4 21.41c.39.39.9.59 1.41.59.51 0 1.02-.2 1.41-.59l7.78-7.78 2.81-2.81c.8-.78.8-2.07 0-2.86zM5.41 20L4 18.59l7.72-7.72 1.47 1.35L5.41 20z\"/>\n",
              "  </svg>\n",
              "      </button>\n",
              "      \n",
              "  <style>\n",
              "    .colab-df-container {\n",
              "      display:flex;\n",
              "      flex-wrap:wrap;\n",
              "      gap: 12px;\n",
              "    }\n",
              "\n",
              "    .colab-df-convert {\n",
              "      background-color: #E8F0FE;\n",
              "      border: none;\n",
              "      border-radius: 50%;\n",
              "      cursor: pointer;\n",
              "      display: none;\n",
              "      fill: #1967D2;\n",
              "      height: 32px;\n",
              "      padding: 0 0 0 0;\n",
              "      width: 32px;\n",
              "    }\n",
              "\n",
              "    .colab-df-convert:hover {\n",
              "      background-color: #E2EBFA;\n",
              "      box-shadow: 0px 1px 2px rgba(60, 64, 67, 0.3), 0px 1px 3px 1px rgba(60, 64, 67, 0.15);\n",
              "      fill: #174EA6;\n",
              "    }\n",
              "\n",
              "    [theme=dark] .colab-df-convert {\n",
              "      background-color: #3B4455;\n",
              "      fill: #D2E3FC;\n",
              "    }\n",
              "\n",
              "    [theme=dark] .colab-df-convert:hover {\n",
              "      background-color: #434B5C;\n",
              "      box-shadow: 0px 1px 3px 1px rgba(0, 0, 0, 0.15);\n",
              "      filter: drop-shadow(0px 1px 2px rgba(0, 0, 0, 0.3));\n",
              "      fill: #FFFFFF;\n",
              "    }\n",
              "  </style>\n",
              "\n",
              "      <script>\n",
              "        const buttonEl =\n",
              "          document.querySelector('#df-54a929e6-1b52-4aab-9c56-9eea0b1b97cd button.colab-df-convert');\n",
              "        buttonEl.style.display =\n",
              "          google.colab.kernel.accessAllowed ? 'block' : 'none';\n",
              "\n",
              "        async function convertToInteractive(key) {\n",
              "          const element = document.querySelector('#df-54a929e6-1b52-4aab-9c56-9eea0b1b97cd');\n",
              "          const dataTable =\n",
              "            await google.colab.kernel.invokeFunction('convertToInteractive',\n",
              "                                                     [key], {});\n",
              "          if (!dataTable) return;\n",
              "\n",
              "          const docLinkHtml = 'Like what you see? Visit the ' +\n",
              "            '<a target=\"_blank\" href=https://colab.research.google.com/notebooks/data_table.ipynb>data table notebook</a>'\n",
              "            + ' to learn more about interactive tables.';\n",
              "          element.innerHTML = '';\n",
              "          dataTable['output_type'] = 'display_data';\n",
              "          await google.colab.output.renderOutput(dataTable, element);\n",
              "          const docLink = document.createElement('div');\n",
              "          docLink.innerHTML = docLinkHtml;\n",
              "          element.appendChild(docLink);\n",
              "        }\n",
              "      </script>\n",
              "    </div>\n",
              "  </div>\n",
              "  "
            ]
          },
          "metadata": {},
          "execution_count": 9
        }
      ],
      "source": [
        "calendar_df.describe()"
      ]
    },
    {
      "cell_type": "code",
      "execution_count": null,
      "metadata": {
        "colab": {
          "base_uri": "https://localhost:8080/",
          "height": 658
        },
        "id": "QGdQUGfg4j-t",
        "outputId": "0933ce76-9a8d-41ba-8683-ac358d5b48c8"
      },
      "outputs": [
        {
          "output_type": "stream",
          "name": "stdout",
          "text": [
            "These columns have all the values missing ['neighbourhood_group_cleansed', 'bathrooms', 'calendar_updated']\n"
          ]
        },
        {
          "output_type": "display_data",
          "data": {
            "text/plain": [
              "<Figure size 1600x700 with 1 Axes>"
            ],
            "image/png": "[encoded data removed]"
          },
          "metadata": {}
        }
      ],
      "source": [
        "def missing(data):\n",
        "    if data.isna().sum().sum()==0:\n",
        "        return \"all missing values treated\"\n",
        "    data = data.isna().sum()/data.shape[0]\n",
        "    data[data>0].plot(kind='bar', figsize=(16,7))\n",
        "    all_miss = list(data[data==1].index)\n",
        "    print(\"These columns have all the values missing\",all_miss)\n",
        "    plt.title(\"Missing value plot\")\n",
        "    plt.tight_layout()\n",
        "    plt.xlabel(\"Column\")\n",
        "    plt.ylabel(\"Missing data in %\")\n",
        "    plt.xticks(rotation=90)\n",
        "    plt.show()\n",
        "     \n",
        "\n",
        "missing(calendar_df)"
      ]
    },
    {
      "cell_type": "code",
      "execution_count": null,
      "metadata": {
        "colab": {
          "base_uri": "https://localhost:8080/"
        },
        "id": "dNjUI7FJfLQc",
        "outputId": "8d8b96e5-24e9-4c89-f163-a3f37f6b9a4b"
      },
      "outputs": [
        {
          "output_type": "stream",
          "name": "stdout",
          "text": [
            "description                        6\n",
            "neighborhood_overview           2492\n",
            "host_location                    803\n",
            "host_about                      2915\n",
            "host_response_time              2039\n",
            "host_response_rate              2039\n",
            "host_acceptance_rate             995\n",
            "host_is_superhost                  4\n",
            "host_neighbourhood              4022\n",
            "neighbourhood                   2492\n",
            "neighbourhood_group_cleansed    6998\n",
            "bathrooms                       6998\n",
            "bathrooms_text                    13\n",
            "bedrooms                         284\n",
            "beds                              85\n",
            "calendar_updated                6998\n",
            "first_review                     682\n",
            "last_review                      682\n",
            "review_scores_rating             682\n",
            "review_scores_accuracy           686\n",
            "review_scores_cleanliness        686\n",
            "review_scores_checkin            686\n",
            "review_scores_communication      686\n",
            "review_scores_location           686\n",
            "review_scores_value              686\n",
            "license                           24\n",
            "reviews_per_month                682\n",
            "dtype: int64\n"
          ]
        }
      ],
      "source": [
        "#columns with missing values\n",
        "empty_columns = calendar_df.columns[calendar_df.isna().any()]\n",
        "print(calendar_df[empty_columns].isna().sum())\n"
      ]
    },
    {
      "cell_type": "code",
      "execution_count": null,
      "metadata": {
        "id": "ppHO2Y1EfWJb"
      },
      "outputs": [],
      "source": [
        "#dropping empty columns\n",
        "columns_to_drop = ['neighbourhood_group_cleansed', 'bathrooms', 'calendar_updated']\n",
        "calendar_df = calendar_df.drop(columns_to_drop, axis=1)\n"
      ]
    },
    {
      "cell_type": "code",
      "execution_count": null,
      "metadata": {
        "id": "OqMIqqkD6rRK"
      },
      "outputs": [],
      "source": [
        "#dropping empty enteries for reviews columns\n",
        "calendar_df.dropna(subset=['review_scores_rating','review_scores_accuracy','review_scores_cleanliness','review_scores_checkin','review_scores_communication','review_scores_location','review_scores_value'],inplace=True)\n"
      ]
    },
    {
      "cell_type": "code",
      "execution_count": null,
      "metadata": {
        "colab": {
          "base_uri": "https://localhost:8080/"
        },
        "id": "vhMgLzah5ivO",
        "outputId": "761e72b0-8d87-40ef-e9eb-d3265ca242e7"
      },
      "outputs": [
        {
          "output_type": "execute_result",
          "data": {
            "text/plain": [
              "(6312,)"
            ]
          },
          "metadata": {},
          "execution_count": 14
        }
      ],
      "source": [
        "# combining all reviews columns to a single average column as all reflect similar behaviour\n",
        "# average of the review and removing 0 reviews\n",
        "calendar_df['reviews_average'] = (calendar_df.review_scores_rating + calendar_df.review_scores_accuracy + calendar_df.review_scores_cleanliness + calendar_df.review_scores_checkin + calendar_df.review_scores_communication + calendar_df.review_scores_location + calendar_df.review_scores_value ) / 7\n",
        "calendar_df['reviews_average'].value_counts()\n",
        "calendar_df = calendar_df[calendar_df['reviews_average']> 0]\n",
        "calendar_df['reviews_average'].shape\n",
        "     "
      ]
    },
    {
      "cell_type": "code",
      "execution_count": null,
      "metadata": {
        "colab": {
          "base_uri": "https://localhost:8080/",
          "height": 807
        },
        "id": "ND2FTLar7CEm",
        "outputId": "9986e0f6-fd56-419c-a452-815e78f47b5e"
      },
      "outputs": [
        {
          "output_type": "display_data",
          "data": {
            "text/plain": [
              "<Figure size 1200x800 with 7 Axes>"
            ],
            "image/png": "[encoded data removed]"
          },
          "metadata": {}
        }
      ],
      "source": [
        "vars = list(calendar_df.columns[calendar_df.columns.str.startswith(\"review_scores\") == True])\n",
        "fig = plt.figure(figsize=(12,8))\n",
        "for i, var_name in enumerate(vars):\n",
        "    ax = fig.add_subplot(3,3,i+1)\n",
        "    calendar_df[var_name].hist(bins=10,ax=ax)\n",
        "    ax.set_title(var_name)\n",
        "fig.tight_layout()\n",
        "plt.show()"
      ]
    },
    {
      "cell_type": "code",
      "execution_count": null,
      "metadata": {
        "id": "LTrAF22o7YKw"
      },
      "outputs": [],
      "source": [
        "calendar_df.drop( ['review_scores_rating','review_scores_accuracy','review_scores_cleanliness',\n",
        "                    'review_scores_checkin','review_scores_communication',\n",
        "                    'review_scores_location','review_scores_value'],\n",
        "                  axis=1,inplace=True)"
      ]
    },
    {
      "cell_type": "code",
      "execution_count": null,
      "metadata": {
        "id": "7jMVMMx17p0t"
      },
      "outputs": [],
      "source": [
        "# Drop more non-contributing columns\n",
        "calendar_df.drop( ['availability_30','availability_60','availability_90','host_response_time'],\n",
        "                   axis=1, inplace=True)\n"
      ]
    },
    {
      "cell_type": "code",
      "execution_count": null,
      "metadata": {
        "colab": {
          "base_uri": "https://localhost:8080/"
        },
        "id": "hk-gzbi3lCIV",
        "outputId": "2081d835-1e20-4b26-b8ab-cfb7aea559b7"
      },
      "outputs": [
        {
          "output_type": "execute_result",
          "data": {
            "text/plain": [
              "215.8222433460076"
            ]
          },
          "metadata": {},
          "execution_count": 18
        }
      ],
      "source": [
        "# Remove $ and convert price to float\n",
        "\n",
        "calendar_df['price'] = calendar_df['price'].replace('[\\$,]', '', regex=True).astype(float)\n",
        "calendar_df['price'].mean()"
      ]
    },
    {
      "cell_type": "code",
      "execution_count": null,
      "metadata": {
        "id": "n3jtR8AmCxL1"
      },
      "outputs": [],
      "source": [
        "# Removing % signs \n",
        "\n",
        "calendar_df['host_response_rate'] = calendar_df['host_response_rate'].replace('[\\%,]', '', regex=True).astype(float)\n",
        "calendar_df['host_acceptance_rate'] = calendar_df['host_acceptance_rate'].replace('[\\%,]', '', regex=True).astype(float)\n"
      ]
    },
    {
      "cell_type": "code",
      "execution_count": null,
      "metadata": {
        "id": "V9HMD14uAbRQ"
      },
      "outputs": [],
      "source": [
        "# Converting object colummn to categorical datat type\n",
        "calendar_df['host_is_superhost'] = pd.Categorical(calendar_df['host_is_superhost'], categories=['False', 'True'], ordered=False)\n",
        "# Replace missing values with \"False\"\n",
        "calendar_df['host_is_superhost'] = calendar_df['host_is_superhost'].fillna('False')"
      ]
    },
    {
      "cell_type": "code",
      "execution_count": null,
      "metadata": {
        "id": "vE4dVvu3A8Je"
      },
      "outputs": [],
      "source": [
        "# Extracting numerical data from bathrooms_text\n",
        "calendar_df['bathrooms_text'] = calendar_df['bathrooms_text'].str.extract('(\\d+\\.?\\d*)')\n",
        "calendar_df['bathrooms_text'] = calendar_df['bathrooms_text'].astype(float)\n",
        "calendar_df['bathrooms_text'] = calendar_df['bathrooms_text'].fillna(0)"
      ]
    },
    {
      "cell_type": "code",
      "execution_count": null,
      "metadata": {
        "id": "gATzjwZWchb5"
      },
      "outputs": [],
      "source": [
        "#Dropping rows with missing enteries for low variance features\n",
        "calendar_df.dropna(subset=['description','license',],inplace=True)"
      ]
    },
    {
      "cell_type": "code",
      "execution_count": null,
      "metadata": {
        "id": "FSDkPHwQc3BU"
      },
      "outputs": [],
      "source": [
        "# Dealing with missing values in beds and bedrooms columns\n",
        "calendar_df['beds'] = calendar_df['beds'].fillna(0)\n",
        "calendar_df['bedrooms'] = calendar_df['bedrooms'].fillna(0)"
      ]
    },
    {
      "cell_type": "code",
      "execution_count": null,
      "metadata": {
        "id": "TnoPxqMO4tCg"
      },
      "outputs": [],
      "source": [
        "# drop rows with price <= 0, bedrooms <=0, accommodates <= 0\n",
        "\n",
        "calendar_df = calendar_df[calendar_df.price > 0]\n",
        "calendar_df = calendar_df[calendar_df.bedrooms > 0]\n",
        "calendar_df = calendar_df[calendar_df.accommodates > 0]"
      ]
    },
    {
      "cell_type": "code",
      "execution_count": null,
      "metadata": {
        "id": "tCowRqzPea3q"
      },
      "outputs": [],
      "source": [
        "# Replacing missing values in neighbourhood column with a default value\n",
        "calendar_df['neighbourhood'] = calendar_df['neighbourhood'].fillna('Amsterdam, Netherlands')"
      ]
    },
    {
      "cell_type": "code",
      "execution_count": null,
      "metadata": {
        "colab": {
          "base_uri": "https://localhost:8080/"
        },
        "id": "FeqwKyQ6AzhJ",
        "outputId": "04cd1502-f5c6-4abb-b001-e540d5751664"
      },
      "outputs": [
        {
          "output_type": "execute_result",
          "data": {
            "text/plain": [
              "(6033, 62)"
            ]
          },
          "metadata": {},
          "execution_count": 26
        }
      ],
      "source": [
        "calendar_df.shape"
      ]
    },
    {
      "cell_type": "markdown",
      "metadata": {
        "id": "qTVif7ZxOypj"
      },
      "source": [
        "# Converting categorical data to numerical values"
      ]
    },
    {
      "cell_type": "code",
      "execution_count": null,
      "metadata": {
        "colab": {
          "base_uri": "https://localhost:8080/"
        },
        "id": "uIOxlLbbdr65",
        "outputId": "aa089121-a944-4a87-ffc8-f53e684191f0"
      },
      "outputs": [
        {
          "output_type": "stream",
          "name": "stdout",
          "text": [
            "Empty DataFrame\n",
            "Columns: [id, listing_url, scrape_id, last_scraped, source, name, description, neighborhood_overview, picture_url, host_id, host_url, host_name, host_since, host_location, host_about, host_response_rate, host_acceptance_rate, host_is_superhost, host_thumbnail_url, host_picture_url, host_neighbourhood, host_listings_count, host_total_listings_count, host_verifications, host_has_profile_pic, host_identity_verified, neighbourhood, neighbourhood_cleansed, latitude, longitude, property_type, room_type, accommodates, bathrooms_text, bedrooms, beds, amenities, price, minimum_nights, maximum_nights, minimum_minimum_nights, maximum_minimum_nights, minimum_maximum_nights, maximum_maximum_nights, minimum_nights_avg_ntm, maximum_nights_avg_ntm, has_availability, availability_365, calendar_last_scraped, number_of_reviews, number_of_reviews_ltm, number_of_reviews_l30d, first_review, last_review, license, instant_bookable, calculated_host_listings_count, calculated_host_listings_count_entire_homes, calculated_host_listings_count_private_rooms, calculated_host_listings_count_shared_rooms, reviews_per_month, reviews_average]\n",
            "Index: []\n",
            "\n",
            "[0 rows x 62 columns]\n"
          ]
        }
      ],
      "source": [
        "duplicates = calendar_df[calendar_df.duplicated()]\n",
        "print(duplicates)"
      ]
    },
    {
      "cell_type": "code",
      "execution_count": null,
      "metadata": {
        "id": "zPriizWNgBw8"
      },
      "outputs": [],
      "source": [
        "# Create a label encoder object\n",
        "le = LabelEncoder()\n",
        "\n",
        "# Fit the label encoder to the categorical column\n",
        "calendar_df['host_is_superhost'] = le.fit_transform(calendar_df['host_is_superhost'])\n",
        "calendar_df['host_is_superhost'] = calendar_df['host_is_superhost'].astype(bool).astype(int)\n",
        "\n",
        "calendar_df['host_identity_verified'] = le.fit_transform(calendar_df['host_identity_verified'])\n",
        "calendar_df['host_identity_verified'] = calendar_df['host_identity_verified'].astype(bool).astype(int)\n",
        "\n",
        "calendar_df['host_has_profile_pic'] = le.fit_transform(calendar_df['host_has_profile_pic'])\n",
        "calendar_df['host_has_profile_pic'] = calendar_df['host_has_profile_pic'].astype(bool).astype(int)\n",
        "\n",
        "calendar_df['instant_bookable'] = le.fit_transform(calendar_df['instant_bookable'])\n",
        "calendar_df['instant_bookable'] = calendar_df['instant_bookable'].astype(bool).astype(int)\n",
        "\n",
        "calendar_df['has_availability'] = le.fit_transform(calendar_df['has_availability'])\n",
        "calendar_df['has_availability'] = calendar_df['has_availability'].astype(bool).astype(int)\n",
        "\n"
      ]
    },
    {
      "cell_type": "code",
      "execution_count": null,
      "metadata": {
        "id": "QqK83h-iRn0V"
      },
      "outputs": [],
      "source": [
        "calendar_df['room_type'] = calendar_df['room_type'].astype(str)\n",
        "le.fit(calendar_df['room_type'].unique())\n",
        "calendar_df['room_type'] = le.transform(calendar_df['room_type'])"
      ]
    },
    {
      "cell_type": "code",
      "execution_count": null,
      "metadata": {
        "id": "Bwa8dER7Ok21"
      },
      "outputs": [],
      "source": [
        "calendar_df['property_type'] = calendar_df['property_type'].astype(str)\n",
        "le.fit(calendar_df['property_type'].unique())\n",
        "calendar_df['property_type'] = le.transform(calendar_df['property_type'])"
      ]
    },
    {
      "cell_type": "code",
      "execution_count": null,
      "metadata": {
        "id": "lsUtC3RsQNP9"
      },
      "outputs": [],
      "source": [
        "encoded_df = pd.get_dummies(calendar_df['neighbourhood_cleansed'], prefix='neighbourhood')\n",
        "calendar_df = pd.concat([calendar_df, encoded_df], axis=1)"
      ]
    },
    {
      "cell_type": "code",
      "execution_count": null,
      "metadata": {
        "id": "KtoN8OEPQcPy"
      },
      "outputs": [],
      "source": [
        "verification_df = calendar_df['host_verifications'].str.strip(\"[]\").str.replace(\"'\", \"\").str.get_dummies(', ')\n",
        "\n",
        "# Concatenate the encoded verification columns with the original DataFrame\n",
        "calendar_df = pd.concat([calendar_df, verification_df], axis=1)\n",
        "\n",
        "# Drop the original host_verifications column\n",
        "calendar_df.drop('host_verifications', axis=1, inplace=True)"
      ]
    },
    {
      "cell_type": "code",
      "execution_count": null,
      "metadata": {
        "id": "KM7pHf0HdUe8"
      },
      "outputs": [],
      "source": [
        "#create a list containing all amenities from each host\n",
        "amenities = list(calendar_df['amenities'])\n",
        "#merge all amenities from hosts into one single list\n",
        "am = ','.join(amenities)\n",
        "#remove the left and right brackets\n",
        "am = am.replace('[','')\n",
        "am = am.replace(']','')\n",
        "#split each element with a comma\n",
        "am = am.split(',')\n",
        "#Turn the list of amenities into a set\n",
        "amenity_items = list(set(am))\n",
        "amenity_items = list(filter(None, amenity_items))\n",
        "\n",
        "#Remove quotations of each item\n",
        "for i in range(len(amenity_items)):\n",
        "    amenity_items[i] = re.sub(r'^\"|\"$', '', amenity_items[i])\n",
        "\n",
        "#Remove wrong data values called \"Translation missing\"  \n",
        "for item in amenity_items:\n",
        "    match = re.match(r'translation',item)\n",
        "    if match:\n",
        "        amenity_items.remove(item)\n",
        "for i in range(len(amenities)):\n",
        "    amenities[i] = amenities[i].replace('[','')\n",
        "    amenities[i] = amenities[i].replace(']','')\n",
        "    amenities[i] = amenities[i].split(',')\n",
        "    for j in range(len(amenities[i])):\n",
        "        amenities[i][j] = re.sub(r'^\"|\"$', '', amenities[i][j])\n"
      ]
    },
    {
      "cell_type": "code",
      "execution_count": null,
      "metadata": {
        "id": "5kJ07vR2dUst"
      },
      "outputs": [],
      "source": [
        "calendar_df.loc[calendar_df['amenities'].str.lower().str.contains('internet|pocket wifi|wifi|ethernet connection'), 'internet'] = 1\n",
        "# calendar_df.loc[calendar_df['amenities'].str.lower().str.contains('24-hour check-in'), 'check_in_24h'] = 1\n",
        "calendar_df.loc[calendar_df['amenities'].str.lower().str.contains('air conditioning|central|heating|ceiling fans|central air conditioning|ac|heating|fans'), 'climate_control'] = 1\n",
        "calendar_df.loc[calendar_df['amenities'].str.lower().str.contains('amazon prime video|hbo max|chromecast|disney +|amazon echo|apple tv|game console|netflix|projector and screen|smart tv|tv|hdtv'), 'high_end_electronics'] = 1\n",
        "calendar_df.loc[calendar_df['amenities'].str.lower().str.contains('cable|sound system|speaker|record player|roku|board games|books and reading material|dvd player'), 'entertainment'] = 1\n",
        "calendar_df.loc[calendar_df['amenities'].str.lower().str.contains('pool table|pingpong|piano|backyard'), 'recreation'] = 1\n",
        "calendar_df.loc[calendar_df['amenities'].str.lower().str.contains('bbq grill|barbecue utensils|fire pit|propane barbeque|bbq'), 'bbq'] = 1\n",
        "calendar_df.loc[calendar_df['amenities'].str.lower().str.contains('balcony|patio'), 'balcony'] = 1\n",
        "calendar_df.loc[calendar_df['amenities'].str.lower().str.contains('beach view|beachfront|lake access|mountain view|ski-in/ski-out|waterfront|access'), 'nature_and_views'] = 1\n",
        "calendar_df.loc[calendar_df['amenities'].str.lower().str.contains('breakfast'), 'breakfast'] = 1\n",
        "calendar_df.loc[calendar_df['amenities'].str.lower().str.contains('changing table|high chair|crib|baby bath|baby monitor|baby safety gates'), 'baby_equipment'] = 1\n",
        "calendar_df.loc[calendar_df['amenities'].str.lower().str.contains('iron|closet|clothing storage'), 'clothing_care_and_storage'] = 1\n",
        "calendar_df.loc[calendar_df['amenities'].str.lower().str.contains('coffee maker|espresso machine|coffee|french press'), 'coffee_machine'] = 1\n",
        "calendar_df.loc[calendar_df['amenities'].str.lower().str.contains('cooking basics|stove|blender|oven|toaster|rice maker|microwave|kitchen|dishware|silverware'), 'kitchen_appliances'] = 1\n",
        "calendar_df.loc[calendar_df['amenities'].str.lower().str.contains('safe|carbon monoxide alarm|smoke alarm|security system|security cameras| room-darkening shades|window guards|guards|fire extinguisher'), 'security'] = 1\n",
        "calendar_df.loc[calendar_df['amenities'].str.lower().str.contains('soap|conditioner|shower gel|body wash|shampoo|body gel|toiletries|slippers'), 'personal_care_items'] = 1\n",
        "calendar_df.loc[calendar_df['amenities'].str.lower().str.contains('dishwasher|dryer|washer|laundry|drying rack'), 'white_goods'] = 1\n",
        "# calendar_df.loc[calendar_df['amenities'].str.lower().str.contains('elevator'), 'elevator'] = 1\n",
        "calendar_df.loc[calendar_df['amenities'].str.lower().str.contains('exercise equipment|gym|fitness center'), 'gym'] = 1\n",
        "calendar_df.loc[calendar_df['amenities'].str.lower().str.contains('bathrobes|hair dryer|soap|conditioner|shower gel|body wash|shampoo|body gel|toiletries|slippers'), 'personal_care_items'] = 1\n",
        "calendar_df.loc[calendar_df['amenities'].str.lower().str.contains('family/kid friendly|children'), 'child_friendly'] = 1\n",
        "calendar_df.loc[calendar_df['amenities'].str.lower().str.contains('self-parking|parking|valet parking|garage|carport'), 'parking'] = 1\n",
        "calendar_df.loc[calendar_df['amenities'].str.lower().str.contains('garden|outdoor|sun loungers|terrace'), 'outdoor_space'] = 1\n",
        "# calendar_df.loc[calendar_df['amenities'].str.lower().str.contains('host greets you'), 'host_greeting'] = 1\n",
        "calendar_df.loc[calendar_df['amenities'].str.lower().str.contains('hot tub|jetted tub|sauna|pool'), 'hot_tub_sauna_or_pool'] = 1\n",
        "calendar_df.loc[calendar_df['amenities'].str.lower().str.contains('long term stays allowed'), 'long_term_stays'] = 1\n",
        "# calendar_df.loc[calendar_df['amenities'].str.lower().str.contains('pets|pet|cat(s)|dog(s)'), 'pets_allowed'] = 1\n",
        "calendar_df.loc[calendar_df['amenities'].str.lower().str.contains('private entrance|private'), 'private_entrance'] = 1\n",
        "# calendar_df.loc[calendar_df['amenities'].str.lower().str.contains('self check-in'), 'self_check_in'] = 1\n",
        "# calendar_df.loc[calendar_df['amenities'].str.lower().str.contains('smoking allowed'), 'smoking_allowed'] = 1"
      ]
    },
    {
      "cell_type": "code",
      "execution_count": null,
      "metadata": {
        "id": "_METP3gG8frt"
      },
      "outputs": [],
      "source": [
        "# Replacing nulls with zeros for new columns\n",
        "cols_to_replace_nulls = calendar_df.iloc[:,41:].columns\n",
        "calendar_df[cols_to_replace_nulls] = calendar_df[cols_to_replace_nulls].fillna(0)\n",
        "calendar_df.drop('amenities', axis=1, inplace=True)"
      ]
    },
    {
      "cell_type": "code",
      "execution_count": null,
      "metadata": {
        "id": "KbsJJFskRmB_"
      },
      "outputs": [],
      "source": [
        "uint8_columns = calendar_df.select_dtypes(include='uint8').columns\n",
        "\n",
        "# Convert columns to int\n",
        "calendar_df[uint8_columns] = calendar_df[uint8_columns].astype(int)"
      ]
    },
    {
      "cell_type": "code",
      "execution_count": null,
      "metadata": {
        "id": "SEuFzwEpRZf0"
      },
      "outputs": [],
      "source": [
        "# Convert to date time\n",
        "date_columns = ['calendar_last_scraped', 'first_review', 'last_review', 'host_since', 'last_scraped']\n",
        "calendar_df[date_columns] = calendar_df[date_columns].apply(pd.to_datetime)"
      ]
    },
    {
      "cell_type": "markdown",
      "metadata": {
        "id": "zCuAy7YkJUPk"
      },
      "source": [
        "# Model training "
      ]
    },
    {
      "cell_type": "code",
      "execution_count": null,
      "metadata": {
        "colab": {
          "base_uri": "https://localhost:8080/"
        },
        "id": "TGPsAr70gHds",
        "outputId": "b96e4f6c-10e5-44a0-8b75-787f69e60354"
      },
      "outputs": [
        {
          "output_type": "stream",
          "name": "stdout",
          "text": [
            "The DataFrame has 6033 rows.\n",
            "The DataFrame has 109 columns.\n"
          ]
        }
      ],
      "source": [
        "num_rows = calendar_df.shape[0]\n",
        "print(f'The DataFrame has {num_rows} rows.')\n",
        "\n",
        "# get the number of columns\n",
        "num_cols = calendar_df.shape[1]\n",
        "print(f'The DataFrame has {num_cols} columns.')"
      ]
    },
    {
      "cell_type": "code",
      "execution_count": null,
      "metadata": {
        "colab": {
          "base_uri": "https://localhost:8080/"
        },
        "id": "M3uRKfXOPSe9",
        "outputId": "b22cf60d-2b74-41c4-d177-b4ad37b233c0"
      },
      "outputs": [
        {
          "output_type": "stream",
          "name": "stdout",
          "text": [
            "<class 'pandas.core.frame.DataFrame'>\n",
            "Int64Index: 6033 entries, 0 to 6949\n",
            "Columns: 109 entries, id to private_entrance\n",
            "dtypes: datetime64[ns](5), float64(35), int64(53), object(16)\n",
            "memory usage: 5.1+ MB\n"
          ]
        }
      ],
      "source": [
        "calendar_df.info()"
      ]
    },
    {
      "cell_type": "code",
      "execution_count": null,
      "metadata": {
        "colab": {
          "base_uri": "https://localhost:8080/"
        },
        "id": "Dk7IP8u_PFns",
        "outputId": "240376ce-eb2d-4c50-b099-656f522850ba"
      },
      "outputs": [
        {
          "output_type": "stream",
          "name": "stdout",
          "text": [
            "neighborhood_overview    2012\n",
            "host_location             636\n",
            "host_about               2407\n",
            "host_response_rate       1767\n",
            "host_acceptance_rate      786\n",
            "host_neighbourhood       3260\n",
            "dtype: int64\n"
          ]
        }
      ],
      "source": [
        "empty_columns = calendar_df.columns[calendar_df.isna().any()]\n",
        "print(calendar_df[empty_columns].isna().sum())"
      ]
    },
    {
      "cell_type": "code",
      "execution_count": null,
      "metadata": {
        "id": "tWzW60MIaACi"
      },
      "outputs": [],
      "source": [
        "# Select columns of object type\n",
        "object_cols = calendar_df.select_dtypes(include='object').columns\n",
        "\n",
        "# Drop columns of object type\n",
        "calendar_df = calendar_df.drop(object_cols, axis=1)"
      ]
    },
    {
      "cell_type": "code",
      "execution_count": null,
      "metadata": {
        "colab": {
          "base_uri": "https://localhost:8080/"
        },
        "id": "96QFMN-DcgQy",
        "outputId": "b33b5da6-dc46-40b2-ee62-f9a9be15dd9f"
      },
      "outputs": [
        {
          "output_type": "stream",
          "name": "stdout",
          "text": [
            "<class 'pandas.core.frame.DataFrame'>\n",
            "Int64Index: 6033 entries, 0 to 6949\n",
            "Data columns (total 93 columns):\n",
            " #   Column                                                Non-Null Count  Dtype         \n",
            "---  ------                                                --------------  -----         \n",
            " 0   id                                                    6033 non-null   int64         \n",
            " 1   scrape_id                                             6033 non-null   int64         \n",
            " 2   last_scraped                                          6033 non-null   datetime64[ns]\n",
            " 3   host_id                                               6033 non-null   int64         \n",
            " 4   host_since                                            6033 non-null   datetime64[ns]\n",
            " 5   host_response_rate                                    4266 non-null   float64       \n",
            " 6   host_acceptance_rate                                  5247 non-null   float64       \n",
            " 7   host_is_superhost                                     6033 non-null   int64         \n",
            " 8   host_listings_count                                   6033 non-null   int64         \n",
            " 9   host_total_listings_count                             6033 non-null   int64         \n",
            " 10  host_has_profile_pic                                  6033 non-null   int64         \n",
            " 11  host_identity_verified                                6033 non-null   int64         \n",
            " 12  latitude                                              6033 non-null   float64       \n",
            " 13  longitude                                             6033 non-null   float64       \n",
            " 14  property_type                                         6033 non-null   int64         \n",
            " 15  room_type                                             6033 non-null   int64         \n",
            " 16  accommodates                                          6033 non-null   int64         \n",
            " 17  bathrooms_text                                        6033 non-null   float64       \n",
            " 18  bedrooms                                              6033 non-null   float64       \n",
            " 19  beds                                                  6033 non-null   float64       \n",
            " 20  price                                                 6033 non-null   float64       \n",
            " 21  minimum_nights                                        6033 non-null   int64         \n",
            " 22  maximum_nights                                        6033 non-null   int64         \n",
            " 23  minimum_minimum_nights                                6033 non-null   int64         \n",
            " 24  maximum_minimum_nights                                6033 non-null   int64         \n",
            " 25  minimum_maximum_nights                                6033 non-null   int64         \n",
            " 26  maximum_maximum_nights                                6033 non-null   int64         \n",
            " 27  minimum_nights_avg_ntm                                6033 non-null   float64       \n",
            " 28  maximum_nights_avg_ntm                                6033 non-null   float64       \n",
            " 29  has_availability                                      6033 non-null   int64         \n",
            " 30  availability_365                                      6033 non-null   int64         \n",
            " 31  calendar_last_scraped                                 6033 non-null   datetime64[ns]\n",
            " 32  number_of_reviews                                     6033 non-null   int64         \n",
            " 33  number_of_reviews_ltm                                 6033 non-null   int64         \n",
            " 34  number_of_reviews_l30d                                6033 non-null   int64         \n",
            " 35  first_review                                          6033 non-null   datetime64[ns]\n",
            " 36  last_review                                           6033 non-null   datetime64[ns]\n",
            " 37  instant_bookable                                      6033 non-null   int64         \n",
            " 38  calculated_host_listings_count                        6033 non-null   int64         \n",
            " 39  calculated_host_listings_count_entire_homes           6033 non-null   int64         \n",
            " 40  calculated_host_listings_count_private_rooms          6033 non-null   int64         \n",
            " 41  calculated_host_listings_count_shared_rooms           6033 non-null   int64         \n",
            " 42  reviews_per_month                                     6033 non-null   float64       \n",
            " 43  reviews_average                                       6033 non-null   float64       \n",
            " 44  neighbourhood_Bijlmer-Centrum                         6033 non-null   int64         \n",
            " 45  neighbourhood_Bijlmer-Oost                            6033 non-null   int64         \n",
            " 46  neighbourhood_Bos en Lommer                           6033 non-null   int64         \n",
            " 47  neighbourhood_Buitenveldert - Zuidas                  6033 non-null   int64         \n",
            " 48  neighbourhood_Centrum-Oost                            6033 non-null   int64         \n",
            " 49  neighbourhood_Centrum-West                            6033 non-null   int64         \n",
            " 50  neighbourhood_De Aker - Nieuw Sloten                  6033 non-null   int64         \n",
            " 51  neighbourhood_De Baarsjes - Oud-West                  6033 non-null   int64         \n",
            " 52  neighbourhood_De Pijp - Rivierenbuurt                 6033 non-null   int64         \n",
            " 53  neighbourhood_Gaasperdam - Driemond                   6033 non-null   int64         \n",
            " 54  neighbourhood_Geuzenveld - Slotermeer                 6033 non-null   int64         \n",
            " 55  neighbourhood_IJburg - Zeeburgereiland                6033 non-null   int64         \n",
            " 56  neighbourhood_Noord-Oost                              6033 non-null   int64         \n",
            " 57  neighbourhood_Noord-West                              6033 non-null   int64         \n",
            " 58  neighbourhood_Oostelijk Havengebied - Indische Buurt  6033 non-null   int64         \n",
            " 59  neighbourhood_Osdorp                                  6033 non-null   int64         \n",
            " 60  neighbourhood_Oud-Noord                               6033 non-null   int64         \n",
            " 61  neighbourhood_Oud-Oost                                6033 non-null   int64         \n",
            " 62  neighbourhood_Slotervaart                             6033 non-null   int64         \n",
            " 63  neighbourhood_Watergraafsmeer                         6033 non-null   int64         \n",
            " 64  neighbourhood_Westerpark                              6033 non-null   int64         \n",
            " 65  neighbourhood_Zuid                                    6033 non-null   int64         \n",
            " 66  email                                                 6033 non-null   int64         \n",
            " 67  phone                                                 6033 non-null   int64         \n",
            " 68  photographer                                          6033 non-null   int64         \n",
            " 69  work_email                                            6033 non-null   int64         \n",
            " 70  internet                                              6033 non-null   float64       \n",
            " 71  climate_control                                       6033 non-null   float64       \n",
            " 72  high_end_electronics                                  6033 non-null   float64       \n",
            " 73  entertainment                                         6033 non-null   float64       \n",
            " 74  recreation                                            6033 non-null   float64       \n",
            " 75  bbq                                                   6033 non-null   float64       \n",
            " 76  balcony                                               6033 non-null   float64       \n",
            " 77  nature_and_views                                      6033 non-null   float64       \n",
            " 78  breakfast                                             6033 non-null   float64       \n",
            " 79  baby_equipment                                        6033 non-null   float64       \n",
            " 80  clothing_care_and_storage                             6033 non-null   float64       \n",
            " 81  coffee_machine                                        6033 non-null   float64       \n",
            " 82  kitchen_appliances                                    6033 non-null   float64       \n",
            " 83  security                                              6033 non-null   float64       \n",
            " 84  personal_care_items                                   6033 non-null   float64       \n",
            " 85  white_goods                                           6033 non-null   float64       \n",
            " 86  gym                                                   6033 non-null   float64       \n",
            " 87  child_friendly                                        6033 non-null   float64       \n",
            " 88  parking                                               6033 non-null   float64       \n",
            " 89  outdoor_space                                         6033 non-null   float64       \n",
            " 90  hot_tub_sauna_or_pool                                 6033 non-null   float64       \n",
            " 91  long_term_stays                                       6033 non-null   float64       \n",
            " 92  private_entrance                                      6033 non-null   float64       \n",
            "dtypes: datetime64[ns](5), float64(35), int64(53)\n",
            "memory usage: 4.3 MB\n"
          ]
        }
      ],
      "source": [
        "calendar_df.info()"
      ]
    },
    {
      "cell_type": "code",
      "execution_count": null,
      "metadata": {
        "id": "YB08LBDRbVjH"
      },
      "outputs": [],
      "source": [
        "# Extract relevant features from the datetime column\n",
        "calendar_df['last_scraped_year'] = pd.to_datetime(calendar_df['last_scraped']).dt.year.astype('float64')\n",
        "calendar_df['last_scraped_month'] = pd.to_datetime(calendar_df['last_scraped']).dt.month.astype('float64')\n",
        "calendar_df['last_scraped_day'] = pd.to_datetime(calendar_df['last_scraped']).dt.day.astype('float64')\n",
        "\n",
        "# Drop the original datetime column\n",
        "calendar_df.drop('last_scraped', axis=1, inplace=True)"
      ]
    },
    {
      "cell_type": "code",
      "execution_count": null,
      "metadata": {
        "id": "4vwNJXVWeOh_"
      },
      "outputs": [],
      "source": [
        "# Extract relevant features from the datetime column\n",
        "calendar_df['host_since_year'] = pd.to_datetime(calendar_df['host_since']).dt.year.astype('float64')\n",
        "calendar_df['host_since_month'] = pd.to_datetime(calendar_df['host_since']).dt.month.astype('float64')\n",
        "calendar_df['host_since_day'] = pd.to_datetime(calendar_df['host_since']).dt.day.astype('float64')\n",
        "\n",
        "# Drop the original datetime column\n",
        "calendar_df.drop('host_since', axis=1, inplace=True)"
      ]
    },
    {
      "cell_type": "code",
      "execution_count": null,
      "metadata": {
        "id": "2O3x2s9-eOt-"
      },
      "outputs": [],
      "source": [
        "# Extract relevant features from the datetime column\n",
        "calendar_df['first_review_year'] = pd.to_datetime(calendar_df['first_review']).dt.year.astype('float64')\n",
        "calendar_df['first_review_month'] = pd.to_datetime(calendar_df['first_review']).dt.month.astype('float64')\n",
        "calendar_df['first_review_day'] = pd.to_datetime(calendar_df['first_review']).dt.day.astype('float64')\n",
        "\n",
        "# Drop the original datetime column\n",
        "calendar_df.drop('first_review', axis=1, inplace=True)"
      ]
    },
    {
      "cell_type": "code",
      "execution_count": null,
      "metadata": {
        "id": "w_jvle0BeO5L"
      },
      "outputs": [],
      "source": [
        "# Extract relevant features from the datetime column\n",
        "calendar_df['last_review_year'] = pd.to_datetime(calendar_df['last_review']).dt.year.astype('float64')\n",
        "calendar_df['last_review_month'] = pd.to_datetime(calendar_df['last_review']).dt.month.astype('float64')\n",
        "calendar_df['last_review_day'] = pd.to_datetime(calendar_df['last_review']).dt.day.astype('float64')\n",
        "\n",
        "# Drop the original datetime column\n",
        "calendar_df.drop('last_review', axis=1, inplace=True)"
      ]
    },
    {
      "cell_type": "code",
      "execution_count": null,
      "metadata": {
        "id": "2Wd03hfkePJ0"
      },
      "outputs": [],
      "source": [
        "# Extract relevant features from the datetime column\n",
        "calendar_df['calendar_last_scraped_year'] = pd.to_datetime(calendar_df['calendar_last_scraped']).dt.year.astype('float64')\n",
        "calendar_df['calendar_last_scraped_month'] = pd.to_datetime(calendar_df['calendar_last_scraped']).dt.month.astype('float64')\n",
        "calendar_df['calendar_last_scraped_day'] = pd.to_datetime(calendar_df['calendar_last_scraped']).dt.day.astype('float64')\n",
        "\n",
        "# Drop the original datetime column\n",
        "calendar_df.drop('calendar_last_scraped', axis=1, inplace=True)"
      ]
    },
    {
      "cell_type": "code",
      "execution_count": null,
      "metadata": {
        "colab": {
          "base_uri": "https://localhost:8080/"
        },
        "id": "cNOhgukvf5sY",
        "outputId": "ddacd8f7-2c3e-4cfe-b132-811677d83bfa"
      },
      "outputs": [
        {
          "output_type": "stream",
          "name": "stdout",
          "text": [
            "<class 'pandas.core.frame.DataFrame'>\n",
            "Int64Index: 6033 entries, 0 to 6949\n",
            "Columns: 103 entries, id to calendar_last_scraped_day\n",
            "dtypes: float64(50), int64(53)\n",
            "memory usage: 4.8 MB\n"
          ]
        }
      ],
      "source": [
        "calendar_df.info()"
      ]
    },
    {
      "cell_type": "code",
      "execution_count": null,
      "metadata": {
        "colab": {
          "base_uri": "https://localhost:8080/"
        },
        "id": "2hr86q6kSdMo",
        "outputId": "a009cb25-871e-43d8-e286-c9968cda9d65"
      },
      "outputs": [
        {
          "output_type": "stream",
          "name": "stdout",
          "text": [
            "<class 'pandas.core.frame.DataFrame'>\n",
            "Int64Index: 6033 entries, 0 to 6949\n",
            "Columns: 102 entries, id to calendar_last_scraped_day\n",
            "dtypes: float64(49), int64(53)\n",
            "memory usage: 4.7 MB\n"
          ]
        }
      ],
      "source": [
        "X = calendar_df.drop('price', axis=1)\n",
        "y = calendar_df['price']\n",
        "X.info()\n"
      ]
    },
    {
      "cell_type": "code",
      "execution_count": null,
      "metadata": {
        "colab": {
          "base_uri": "https://localhost:8080/"
        },
        "id": "4H6IIgfqgNg2",
        "outputId": "673e1729-d31b-4703-d88b-0c88564f5382"
      },
      "outputs": [
        {
          "output_type": "stream",
          "name": "stdout",
          "text": [
            "(6033, 102)\n"
          ]
        }
      ],
      "source": [
        "# dealing with missing values in x\n",
        "from scipy import sparse\n",
        "from sklearn.impute import SimpleImputer\n",
        "\n",
        "\n",
        "imputer = SimpleImputer(strategy='median')\n",
        "X_imputed = imputer.fit_transform(X)\n",
        "print(X_imputed.shape)\n"
      ]
    },
    {
      "cell_type": "code",
      "execution_count": null,
      "metadata": {
        "colab": {
          "base_uri": "https://localhost:8080/"
        },
        "id": "8fdo7p7NpcCV",
        "outputId": "b01f08c1-3969-4782-c91f-27da18395d4c"
      },
      "outputs": [
        {
          "output_type": "execute_result",
          "data": {
            "text/plain": [
              "array([[-0.53395787,  0.        , -0.72011972, ...,  0.        ,\n",
              "         0.        , -1.59846715],\n",
              "       [-0.53395787,  0.        , -0.70780421, ...,  0.        ,\n",
              "         0.        ,  0.62559934],\n",
              "       [-0.53395787,  0.        , -0.70749038, ...,  0.        ,\n",
              "         0.        ,  0.62559934],\n",
              "       ...,\n",
              "       [ 2.36567252,  0.        , -0.18562486, ...,  0.        ,\n",
              "         0.        ,  0.62559934],\n",
              "       [ 2.37321598,  0.        ,  1.16568841, ...,  0.        ,\n",
              "         0.        , -1.59846715],\n",
              "       [ 2.37845591,  0.        ,  1.88866116, ...,  0.        ,\n",
              "         0.        , -1.59846715]])"
            ]
          },
          "metadata": {},
          "execution_count": 51
        }
      ],
      "source": [
        "scaler=StandardScaler()\n",
        "X_scaled=scaler.fit_transform(X_imputed)\n",
        "X_scaled"
      ]
    },
    {
      "cell_type": "code",
      "execution_count": null,
      "metadata": {
        "colab": {
          "base_uri": "https://localhost:8080/"
        },
        "id": "s66UpIPzWvL6",
        "outputId": "2d371297-5981-42a5-bc95-4c100a0622a2"
      },
      "outputs": [
        {
          "output_type": "stream",
          "name": "stdout",
          "text": [
            "Selected Features:  Index(['scrape_id', 'host_is_superhost', 'host_total_listings_count',\n",
            "       'host_has_profile_pic', 'latitude', 'room_type', 'accommodates',\n",
            "       'bathrooms_text', 'bedrooms', 'beds', 'maximum_minimum_nights',\n",
            "       'availability_365', 'number_of_reviews', 'instant_bookable',\n",
            "       'calculated_host_listings_count_entire_homes', 'reviews_average',\n",
            "       'neighbourhood_Bijlmer-Centrum', 'neighbourhood_Centrum-Oost',\n",
            "       'neighbourhood_Centrum-West', 'neighbourhood_De Baarsjes - Oud-West',\n",
            "       'neighbourhood_De Pijp - Rivierenbuurt',\n",
            "       'neighbourhood_Gaasperdam - Driemond',\n",
            "       'neighbourhood_Geuzenveld - Slotermeer',\n",
            "       'neighbourhood_IJburg - Zeeburgereiland', 'neighbourhood_Noord-Oost',\n",
            "       'neighbourhood_Noord-West',\n",
            "       'neighbourhood_Oostelijk Havengebied - Indische Buurt',\n",
            "       'neighbourhood_Osdorp', 'neighbourhood_Oud-Oost',\n",
            "       'neighbourhood_Westerpark', 'neighbourhood_Zuid', 'email', 'phone',\n",
            "       'photographer', 'high_end_electronics', 'bbq', 'balcony',\n",
            "       'nature_and_views', 'coffee_machine', 'gym', 'parking',\n",
            "       'last_scraped_year', 'last_scraped_month', 'host_since_month',\n",
            "       'first_review_year', 'first_review_month', 'last_review_year',\n",
            "       'last_review_month', 'calendar_last_scraped_year',\n",
            "       'calendar_last_scraped_month'],\n",
            "      dtype='object')\n"
          ]
        }
      ],
      "source": [
        "from sklearn.feature_selection import SequentialFeatureSelector\n",
        "from sklearn.linear_model import LinearRegression\n",
        "\n",
        "\n",
        "# Initialize the linear regression model\n",
        "lr = LinearRegression()\n",
        "\n",
        "# Initialize the forward feature selector\n",
        "sfs = SequentialFeatureSelector(lr, n_features_to_select=50, direction='forward')\n",
        "\n",
        "# Train the forward feature selector on your data\n",
        "sfs.fit(X_imputed, y)\n",
        "\n",
        "# Print the selected features\n",
        "selected_features = X.columns[sfs.get_support()]\n",
        "print(\"Selected Features: \", selected_features)\n"
      ]
    },
    {
      "cell_type": "code",
      "execution_count": null,
      "metadata": {
        "id": "iK4cRIJmhcpZ"
      },
      "outputs": [],
      "source": [
        "from sklearn.linear_model import LinearRegression\n",
        "from sklearn.model_selection import train_test_split\n",
        "\n",
        "# Split the data into training and test sets\n",
        "X_train, X_test, y_train, y_test = train_test_split(X[selected_features], y, test_size=0.2, random_state=42)"
      ]
    },
    {
      "cell_type": "code",
      "execution_count": null,
      "metadata": {
        "colab": {
          "base_uri": "https://localhost:8080/",
          "height": 74
        },
        "id": "c82yediwhk1C",
        "outputId": "8510da71-741d-4df0-98f1-2c4289f632cc"
      },
      "outputs": [
        {
          "output_type": "execute_result",
          "data": {
            "text/plain": [
              "LinearRegression()"
            ],
            "text/html": [
              "<style>#sk-container-id-1 {color: black;background-color: white;}#sk-container-id-1 pre{padding: 0;}#sk-container-id-1 div.sk-toggleable {background-color: white;}#sk-container-id-1 label.sk-toggleable__label {cursor: pointer;display: block;width: 100%;margin-bottom: 0;padding: 0.3em;box-sizing: border-box;text-align: center;}#sk-container-id-1 label.sk-toggleable__label-arrow:before {content: \"▸\";float: left;margin-right: 0.25em;color: #696969;}#sk-container-id-1 label.sk-toggleable__label-arrow:hover:before {color: black;}#sk-container-id-1 div.sk-estimator:hover label.sk-toggleable__label-arrow:before {color: black;}#sk-container-id-1 div.sk-toggleable__content {max-height: 0;max-width: 0;overflow: hidden;text-align: left;background-color: #f0f8ff;}#sk-container-id-1 div.sk-toggleable__content pre {margin: 0.2em;color: black;border-radius: 0.25em;background-color: #f0f8ff;}#sk-container-id-1 input.sk-toggleable__control:checked~div.sk-toggleable__content {max-height: 200px;max-width: 100%;overflow: auto;}#sk-container-id-1 input.sk-toggleable__control:checked~label.sk-toggleable__label-arrow:before {content: \"▾\";}#sk-container-id-1 div.sk-estimator input.sk-toggleable__control:checked~label.sk-toggleable__label {background-color: #d4ebff;}#sk-container-id-1 div.sk-label input.sk-toggleable__control:checked~label.sk-toggleable__label {background-color: #d4ebff;}#sk-container-id-1 input.sk-hidden--visually {border: 0;clip: rect(1px 1px 1px 1px);clip: rect(1px, 1px, 1px, 1px);height: 1px;margin: -1px;overflow: hidden;padding: 0;position: absolute;width: 1px;}#sk-container-id-1 div.sk-estimator {font-family: monospace;background-color: #f0f8ff;border: 1px dotted black;border-radius: 0.25em;box-sizing: border-box;margin-bottom: 0.5em;}#sk-container-id-1 div.sk-estimator:hover {background-color: #d4ebff;}#sk-container-id-1 div.sk-parallel-item::after {content: \"\";width: 100%;border-bottom: 1px solid gray;flex-grow: 1;}#sk-container-id-1 div.sk-label:hover label.sk-toggleable__label {background-color: #d4ebff;}#sk-container-id-1 div.sk-serial::before {content: \"\";position: absolute;border-left: 1px solid gray;box-sizing: border-box;top: 0;bottom: 0;left: 50%;z-index: 0;}#sk-container-id-1 div.sk-serial {display: flex;flex-direction: column;align-items: center;background-color: white;padding-right: 0.2em;padding-left: 0.2em;position: relative;}#sk-container-id-1 div.sk-item {position: relative;z-index: 1;}#sk-container-id-1 div.sk-parallel {display: flex;align-items: stretch;justify-content: center;background-color: white;position: relative;}#sk-container-id-1 div.sk-item::before, #sk-container-id-1 div.sk-parallel-item::before {content: \"\";position: absolute;border-left: 1px solid gray;box-sizing: border-box;top: 0;bottom: 0;left: 50%;z-index: -1;}#sk-container-id-1 div.sk-parallel-item {display: flex;flex-direction: column;z-index: 1;position: relative;background-color: white;}#sk-container-id-1 div.sk-parallel-item:first-child::after {align-self: flex-end;width: 50%;}#sk-container-id-1 div.sk-parallel-item:last-child::after {align-self: flex-start;width: 50%;}#sk-container-id-1 div.sk-parallel-item:only-child::after {width: 0;}#sk-container-id-1 div.sk-dashed-wrapped {border: 1px dashed gray;margin: 0 0.4em 0.5em 0.4em;box-sizing: border-box;padding-bottom: 0.4em;background-color: white;}#sk-container-id-1 div.sk-label label {font-family: monospace;font-weight: bold;display: inline-block;line-height: 1.2em;}#sk-container-id-1 div.sk-label-container {text-align: center;}#sk-container-id-1 div.sk-container {/* jupyter's `normalize.less` sets `[hidden] { display: none; }` but bootstrap.min.css set `[hidden] { display: none !important; }` so we also need the `!important` here to be able to override the default hidden behavior on the sphinx rendered scikit-learn.org. See: https://github.com/scikit-learn/scikit-learn/issues/21755 */display: inline-block !important;position: relative;}#sk-container-id-1 div.sk-text-repr-fallback {display: none;}</style><div id=\"sk-container-id-1\" class=\"sk-top-container\"><div class=\"sk-text-repr-fallback\"><pre>LinearRegression()</pre><b>In a Jupyter environment, please rerun this cell to show the HTML representation or trust the notebook. <br />On GitHub, the HTML representation is unable to render, please try loading this page with nbviewer.org.</b></div><div class=\"sk-container\" hidden><div class=\"sk-item\"><div class=\"sk-estimator sk-toggleable\"><input class=\"sk-toggleable__control sk-hidden--visually\" id=\"sk-estimator-id-1\" type=\"checkbox\" checked><label for=\"sk-estimator-id-1\" class=\"sk-toggleable__label sk-toggleable__label-arrow\">LinearRegression</label><div class=\"sk-toggleable__content\"><pre>LinearRegression()</pre></div></div></div></div></div>"
            ]
          },
          "metadata": {},
          "execution_count": 55
        }
      ],
      "source": [
        "# Initialize the linear regression model\n",
        "lr = LinearRegression()\n",
        "\n",
        "# Fit the model on the training data\n",
        "lr.fit(X_train, y_train)\n"
      ]
    },
    {
      "cell_type": "code",
      "execution_count": null,
      "metadata": {
        "id": "3gd3eEUMhrit"
      },
      "outputs": [],
      "source": [
        "# Make predictions on the test data\n",
        "y_pred = lr.predict(X_test)"
      ]
    },
    {
      "cell_type": "code",
      "execution_count": null,
      "metadata": {
        "colab": {
          "base_uri": "https://localhost:8080/"
        },
        "id": "xk6Uldl0h5tb",
        "outputId": "f7b962fa-1e79-4038-f203-2655faa8c354"
      },
      "outputs": [
        {
          "output_type": "stream",
          "name": "stdout",
          "text": [
            "MSE on the training set: 21741.47011485595\n"
          ]
        }
      ],
      "source": [
        "#evaluating model on training set\n",
        "y_pred_train = lr.predict(X_train)\n",
        "mse_train = mean_squared_error(y_train, y_pred_train)\n",
        "print('MSE on the training set:', mse_train)"
      ]
    },
    {
      "cell_type": "code",
      "execution_count": null,
      "metadata": {
        "colab": {
          "base_uri": "https://localhost:8080/"
        },
        "id": "B7AlLsnEiB8-",
        "outputId": "9c6a0531-dd85-4392-8ffc-896073f97545"
      },
      "outputs": [
        {
          "output_type": "stream",
          "name": "stdout",
          "text": [
            "MSE on the testing set: 8339.642104188952\n"
          ]
        }
      ],
      "source": [
        "#evaluating model on testing set\n",
        "y_pred_test = lr.predict(X_test)\n",
        "mse_test = mean_squared_error(y_test, y_pred_test)\n",
        "print('MSE on the testing set:', mse_test)"
      ]
    },
    {
      "cell_type": "code",
      "execution_count": null,
      "metadata": {
        "colab": {
          "base_uri": "https://localhost:8080/"
        },
        "id": "yfgpvCFriJEt",
        "outputId": "2179fe00-165c-4742-aa7d-c36e7c8e45eb"
      },
      "outputs": [
        {
          "output_type": "stream",
          "name": "stdout",
          "text": [
            "Train R^2 score: 0.33137303078909697\n",
            "Test R^2 score: 0.4510808371933067\n"
          ]
        }
      ],
      "source": [
        "# accuracy the model\n",
        "train_score = lr.score(X_train, y_train)\n",
        "test_score = lr.score(X_test, y_test)\n",
        "\n",
        "print('Train R^2 score:', train_score)\n",
        "print('Test R^2 score:', test_score)"
      ]
    },
    {
      "cell_type": "code",
      "source": [
        "from sklearn.feature_selection import SequentialFeatureSelector\n",
        "from sklearn.linear_model import LinearRegression\n",
        "\n",
        "# Load the Boston Housing dataset as an example\n",
        "\n",
        "\n",
        "# Initialize the linear regression model\n",
        "lr = LinearRegression()\n",
        "\n",
        "# Initialize the backward feature selector\n",
        "sfs = SequentialFeatureSelector(lr, n_features_to_select=30, direction='backward')\n",
        "\n",
        "# Train the backward feature selector on your data\n",
        "sfs.fit(X_imputed, y)\n",
        "# Print the selected features\n",
        "selected_features = X.columns[sfs.get_support()]\n",
        "print(\"Selected Features: \", selected_features)\n",
        "\n",
        "\n"
      ],
      "metadata": {
        "colab": {
          "base_uri": "https://localhost:8080/"
        },
        "id": "jwJRSGSWvWr2",
        "outputId": "e99b4358-2d0b-40e0-e81b-cbad7fdfda1b"
      },
      "execution_count": null,
      "outputs": [
        {
          "output_type": "stream",
          "name": "stdout",
          "text": [
            "Selected Features:  Index(['id', 'host_id', 'host_response_rate', 'host_acceptance_rate',\n",
            "       'host_total_listings_count', 'property_type', 'accommodates',\n",
            "       'bathrooms_text', 'bedrooms', 'beds', 'minimum_nights',\n",
            "       'minimum_minimum_nights', 'maximum_minimum_nights',\n",
            "       'minimum_maximum_nights', 'maximum_maximum_nights',\n",
            "       'minimum_nights_avg_ntm', 'maximum_nights_avg_ntm', 'availability_365',\n",
            "       'number_of_reviews', 'number_of_reviews_ltm', 'number_of_reviews_l30d',\n",
            "       'entertainment', 'recreation', 'baby_equipment', 'child_friendly',\n",
            "       'private_entrance', 'last_scraped_day', 'first_review_year',\n",
            "       'last_review_month', 'calendar_last_scraped_day'],\n",
            "      dtype='object')\n"
          ]
        }
      ]
    },
    {
      "cell_type": "code",
      "source": [
        "from sklearn.linear_model import LinearRegression\n",
        "from sklearn.model_selection import train_test_split\n",
        "\n",
        "# Split the data into training and test sets\n",
        "X_train1, X_test1, y_train1, y_test1 = train_test_split(X_imputed[:, sfs.get_support()], y, test_size=0.2, random_state=42)"
      ],
      "metadata": {
        "id": "IjuX_W0qCRIu"
      },
      "execution_count": null,
      "outputs": []
    },
    {
      "cell_type": "code",
      "source": [
        "# Initialize the linear regression model\n",
        "lr = LinearRegression()\n",
        "\n",
        "# Fit the model on the training data\n",
        "lr.fit(X_train1, y_train)\n"
      ],
      "metadata": {
        "colab": {
          "base_uri": "https://localhost:8080/",
          "height": 74
        },
        "id": "rAOkED8KCxZ-",
        "outputId": "b6df1eff-0b8b-4efe-b95c-376c7e3c94f0"
      },
      "execution_count": null,
      "outputs": [
        {
          "output_type": "execute_result",
          "data": {
            "text/plain": [
              "LinearRegression()"
            ],
            "text/html": [
              "<style>#sk-container-id-2 {color: black;background-color: white;}#sk-container-id-2 pre{padding: 0;}#sk-container-id-2 div.sk-toggleable {background-color: white;}#sk-container-id-2 label.sk-toggleable__label {cursor: pointer;display: block;width: 100%;margin-bottom: 0;padding: 0.3em;box-sizing: border-box;text-align: center;}#sk-container-id-2 label.sk-toggleable__label-arrow:before {content: \"▸\";float: left;margin-right: 0.25em;color: #696969;}#sk-container-id-2 label.sk-toggleable__label-arrow:hover:before {color: black;}#sk-container-id-2 div.sk-estimator:hover label.sk-toggleable__label-arrow:before {color: black;}#sk-container-id-2 div.sk-toggleable__content {max-height: 0;max-width: 0;overflow: hidden;text-align: left;background-color: #f0f8ff;}#sk-container-id-2 div.sk-toggleable__content pre {margin: 0.2em;color: black;border-radius: 0.25em;background-color: #f0f8ff;}#sk-container-id-2 input.sk-toggleable__control:checked~div.sk-toggleable__content {max-height: 200px;max-width: 100%;overflow: auto;}#sk-container-id-2 input.sk-toggleable__control:checked~label.sk-toggleable__label-arrow:before {content: \"▾\";}#sk-container-id-2 div.sk-estimator input.sk-toggleable__control:checked~label.sk-toggleable__label {background-color: #d4ebff;}#sk-container-id-2 div.sk-label input.sk-toggleable__control:checked~label.sk-toggleable__label {background-color: #d4ebff;}#sk-container-id-2 input.sk-hidden--visually {border: 0;clip: rect(1px 1px 1px 1px);clip: rect(1px, 1px, 1px, 1px);height: 1px;margin: -1px;overflow: hidden;padding: 0;position: absolute;width: 1px;}#sk-container-id-2 div.sk-estimator {font-family: monospace;background-color: #f0f8ff;border: 1px dotted black;border-radius: 0.25em;box-sizing: border-box;margin-bottom: 0.5em;}#sk-container-id-2 div.sk-estimator:hover {background-color: #d4ebff;}#sk-container-id-2 div.sk-parallel-item::after {content: \"\";width: 100%;border-bottom: 1px solid gray;flex-grow: 1;}#sk-container-id-2 div.sk-label:hover label.sk-toggleable__label {background-color: #d4ebff;}#sk-container-id-2 div.sk-serial::before {content: \"\";position: absolute;border-left: 1px solid gray;box-sizing: border-box;top: 0;bottom: 0;left: 50%;z-index: 0;}#sk-container-id-2 div.sk-serial {display: flex;flex-direction: column;align-items: center;background-color: white;padding-right: 0.2em;padding-left: 0.2em;position: relative;}#sk-container-id-2 div.sk-item {position: relative;z-index: 1;}#sk-container-id-2 div.sk-parallel {display: flex;align-items: stretch;justify-content: center;background-color: white;position: relative;}#sk-container-id-2 div.sk-item::before, #sk-container-id-2 div.sk-parallel-item::before {content: \"\";position: absolute;border-left: 1px solid gray;box-sizing: border-box;top: 0;bottom: 0;left: 50%;z-index: -1;}#sk-container-id-2 div.sk-parallel-item {display: flex;flex-direction: column;z-index: 1;position: relative;background-color: white;}#sk-container-id-2 div.sk-parallel-item:first-child::after {align-self: flex-end;width: 50%;}#sk-container-id-2 div.sk-parallel-item:last-child::after {align-self: flex-start;width: 50%;}#sk-container-id-2 div.sk-parallel-item:only-child::after {width: 0;}#sk-container-id-2 div.sk-dashed-wrapped {border: 1px dashed gray;margin: 0 0.4em 0.5em 0.4em;box-sizing: border-box;padding-bottom: 0.4em;background-color: white;}#sk-container-id-2 div.sk-label label {font-family: monospace;font-weight: bold;display: inline-block;line-height: 1.2em;}#sk-container-id-2 div.sk-label-container {text-align: center;}#sk-container-id-2 div.sk-container {/* jupyter's `normalize.less` sets `[hidden] { display: none; }` but bootstrap.min.css set `[hidden] { display: none !important; }` so we also need the `!important` here to be able to override the default hidden behavior on the sphinx rendered scikit-learn.org. See: https://github.com/scikit-learn/scikit-learn/issues/21755 */display: inline-block !important;position: relative;}#sk-container-id-2 div.sk-text-repr-fallback {display: none;}</style><div id=\"sk-container-id-2\" class=\"sk-top-container\"><div class=\"sk-text-repr-fallback\"><pre>LinearRegression()</pre><b>In a Jupyter environment, please rerun this cell to show the HTML representation or trust the notebook. <br />On GitHub, the HTML representation is unable to render, please try loading this page with nbviewer.org.</b></div><div class=\"sk-container\" hidden><div class=\"sk-item\"><div class=\"sk-estimator sk-toggleable\"><input class=\"sk-toggleable__control sk-hidden--visually\" id=\"sk-estimator-id-2\" type=\"checkbox\" checked><label for=\"sk-estimator-id-2\" class=\"sk-toggleable__label sk-toggleable__label-arrow\">LinearRegression</label><div class=\"sk-toggleable__content\"><pre>LinearRegression()</pre></div></div></div></div></div>"
            ]
          },
          "metadata": {},
          "execution_count": 70
        }
      ]
    },
    {
      "cell_type": "code",
      "source": [
        "# accuracy the model\n",
        "train_score = lr.score(X_train1, y_train1)\n",
        "test_score = lr.score(X_test1, y_test1)\n",
        "\n",
        "print('Train R^2 score:', train_score)\n",
        "print('Test R^2 score:', test_score)"
      ],
      "metadata": {
        "colab": {
          "base_uri": "https://localhost:8080/"
        },
        "id": "mVdU7zVhEoY5",
        "outputId": "c076964e-4992-4e7c-e438-6131688bc52e"
      },
      "execution_count": null,
      "outputs": [
        {
          "output_type": "stream",
          "name": "stdout",
          "text": [
            "Train R^2 score: 0.05708499409232082\n",
            "Test R^2 score: 0.08067337291300902\n"
          ]
        }
      ]
    }
  ],
  "metadata": {
    "colab": {
      "provenance": []
    },
    "kernelspec": {
      "display_name": "Python 3",
      "name": "python3"
    },
    "language_info": {
      "name": "python"
    }
  },
  "nbformat": 4,
  "nbformat_minor": 0
}